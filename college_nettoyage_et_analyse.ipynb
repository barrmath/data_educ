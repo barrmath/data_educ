{
 "cells": [
  {
   "cell_type": "markdown",
   "metadata": {},
   "source": [
    "# Analyse de base des fichiers éducation nationale. \n",
    "Objectif : voir les données, trouvé des pistes pour comprendre l'echec scolaire."
   ]
  },
  {
   "cell_type": "code",
   "execution_count": 1,
   "metadata": {},
   "outputs": [],
   "source": [
    "# import bibliothéques d'analyse de python\n",
    "import pandas as pd\n",
    "import matplotlib.pyplot as plt\n",
    "from matplotlib.ticker import MaxNLocator\n",
    "from matplotlib.ticker import FuncFormatter\n",
    "import seaborn as sns\n"
   ]
  },
  {
   "cell_type": "code",
   "execution_count": 2,
   "metadata": {},
   "outputs": [],
   "source": [
    "college_resultat = pd.read_csv(\"donnee/fr-en-indicateurs-valeur-ajoutee-colleges.csv\",sep=\";\")\n",
    "collegue_stat = pd.read_csv(\"donnee/fr-en-ips-colleges-ap2022.csv\",sep=\";\")\n",
    "effectif_colleges = pd.read_csv(\"donnee/fr-en-college-effectifs-niveau-sexe-lv.csv\",sep=\";\")"
   ]
  },
  {
   "cell_type": "markdown",
   "metadata": {},
   "source": [
    "## Affichage des entêtes des données\n",
    "Pour les écoles primaires :"
   ]
  },
  {
   "cell_type": "code",
   "execution_count": 3,
   "metadata": {},
   "outputs": [
    {
     "data": {
      "text/html": [
       "<div>\n",
       "<style scoped>\n",
       "    .dataframe tbody tr th:only-of-type {\n",
       "        vertical-align: middle;\n",
       "    }\n",
       "\n",
       "    .dataframe tbody tr th {\n",
       "        vertical-align: top;\n",
       "    }\n",
       "\n",
       "    .dataframe thead th {\n",
       "        text-align: right;\n",
       "    }\n",
       "</style>\n",
       "<table border=\"1\" class=\"dataframe\">\n",
       "  <thead>\n",
       "    <tr style=\"text-align: right;\">\n",
       "      <th></th>\n",
       "      <th>rentree_scolaire</th>\n",
       "      <th>region_academique</th>\n",
       "      <th>academie</th>\n",
       "      <th>departement</th>\n",
       "      <th>commune</th>\n",
       "      <th>numero_college</th>\n",
       "      <th>denomination_principale</th>\n",
       "      <th>patronyme</th>\n",
       "      <th>secteur</th>\n",
       "      <th>rep</th>\n",
       "      <th>...</th>\n",
       "      <th>3eme_lv1_allemand</th>\n",
       "      <th>3eme_lv1_anglais</th>\n",
       "      <th>3eme_lv1_espagnol</th>\n",
       "      <th>3eme_lv1_autres</th>\n",
       "      <th>3eme_lv2_allemand</th>\n",
       "      <th>3eme_lv2_anglais</th>\n",
       "      <th>3eme_lv2_espagnol</th>\n",
       "      <th>3eme_lv2_italien</th>\n",
       "      <th>3eme_lv2_autres</th>\n",
       "      <th>code_postal</th>\n",
       "    </tr>\n",
       "  </thead>\n",
       "  <tbody>\n",
       "    <tr>\n",
       "      <th>0</th>\n",
       "      <td>2019</td>\n",
       "      <td>AUVERGNE-ET-RHONE-ALPES</td>\n",
       "      <td>LYON</td>\n",
       "      <td>RHONE</td>\n",
       "      <td>VILLEURBANNE</td>\n",
       "      <td>0691664J</td>\n",
       "      <td>COLLEGE</td>\n",
       "      <td>JEAN JAURES</td>\n",
       "      <td>PUBLIC</td>\n",
       "      <td>1</td>\n",
       "      <td>...</td>\n",
       "      <td>0</td>\n",
       "      <td>175</td>\n",
       "      <td>0</td>\n",
       "      <td>0</td>\n",
       "      <td>26</td>\n",
       "      <td>0</td>\n",
       "      <td>131</td>\n",
       "      <td>14</td>\n",
       "      <td>0</td>\n",
       "      <td>69100.0</td>\n",
       "    </tr>\n",
       "  </tbody>\n",
       "</table>\n",
       "<p>1 rows × 76 columns</p>\n",
       "</div>"
      ],
      "text/plain": [
       "   rentree_scolaire        region_academique academie departement  \\\n",
       "0              2019  AUVERGNE-ET-RHONE-ALPES     LYON       RHONE   \n",
       "\n",
       "        commune numero_college denomination_principale    patronyme secteur  \\\n",
       "0  VILLEURBANNE       0691664J                 COLLEGE  JEAN JAURES  PUBLIC   \n",
       "\n",
       "   rep  ...  3eme_lv1_allemand  3eme_lv1_anglais  3eme_lv1_espagnol  \\\n",
       "0    1  ...                  0               175                  0   \n",
       "\n",
       "   3eme_lv1_autres  3eme_lv2_allemand  3eme_lv2_anglais  3eme_lv2_espagnol  \\\n",
       "0                0                 26                 0                131   \n",
       "\n",
       "   3eme_lv2_italien  3eme_lv2_autres  code_postal  \n",
       "0                14                0      69100.0  \n",
       "\n",
       "[1 rows x 76 columns]"
      ]
     },
     "execution_count": 3,
     "metadata": {},
     "output_type": "execute_result"
    }
   ],
   "source": [
    "effectif_colleges.head(1)"
   ]
  },
  {
   "cell_type": "code",
   "execution_count": 4,
   "metadata": {},
   "outputs": [
    {
     "data": {
      "text/html": [
       "<div>\n",
       "<style scoped>\n",
       "    .dataframe tbody tr th:only-of-type {\n",
       "        vertical-align: middle;\n",
       "    }\n",
       "\n",
       "    .dataframe tbody tr th {\n",
       "        vertical-align: top;\n",
       "    }\n",
       "\n",
       "    .dataframe thead th {\n",
       "        text-align: right;\n",
       "    }\n",
       "</style>\n",
       "<table border=\"1\" class=\"dataframe\">\n",
       "  <thead>\n",
       "    <tr style=\"text-align: right;\">\n",
       "      <th></th>\n",
       "      <th>rentree_scolaire</th>\n",
       "      <th>academie</th>\n",
       "      <th>code_du_departement</th>\n",
       "      <th>departement</th>\n",
       "      <th>uai</th>\n",
       "      <th>nom_de_l_etablissment</th>\n",
       "      <th>code_insee_de_la_commune</th>\n",
       "      <th>nom_de_la_commune</th>\n",
       "      <th>secteur</th>\n",
       "      <th>effectifs</th>\n",
       "      <th>ips</th>\n",
       "      <th>ecart_type_de_l_ips</th>\n",
       "    </tr>\n",
       "  </thead>\n",
       "  <tbody>\n",
       "    <tr>\n",
       "      <th>0</th>\n",
       "      <td>2022-2023</td>\n",
       "      <td>LYON</td>\n",
       "      <td>001</td>\n",
       "      <td>AIN</td>\n",
       "      <td>0010002X</td>\n",
       "      <td>COLLEGE SAINT EXUPERY</td>\n",
       "      <td>01004</td>\n",
       "      <td>AMBERIEU EN BUGEY</td>\n",
       "      <td>public</td>\n",
       "      <td>686.0</td>\n",
       "      <td>95.3</td>\n",
       "      <td>34.2</td>\n",
       "    </tr>\n",
       "  </tbody>\n",
       "</table>\n",
       "</div>"
      ],
      "text/plain": [
       "  rentree_scolaire academie code_du_departement departement       uai  \\\n",
       "0        2022-2023     LYON                 001         AIN  0010002X   \n",
       "\n",
       "   nom_de_l_etablissment code_insee_de_la_commune  nom_de_la_commune secteur  \\\n",
       "0  COLLEGE SAINT EXUPERY                    01004  AMBERIEU EN BUGEY  public   \n",
       "\n",
       "   effectifs   ips  ecart_type_de_l_ips  \n",
       "0      686.0  95.3                 34.2  "
      ]
     },
     "execution_count": 4,
     "metadata": {},
     "output_type": "execute_result"
    }
   ],
   "source": [
    "collegue_stat.head(1)"
   ]
  },
  {
   "cell_type": "code",
   "execution_count": 5,
   "metadata": {},
   "outputs": [
    {
     "name": "stdout",
     "output_type": "stream",
     "text": [
      "<class 'pandas.core.frame.DataFrame'>\n",
      "RangeIndex: 6622 entries, 0 to 6621\n",
      "Data columns (total 24 columns):\n",
      " #   Column                              Non-Null Count  Dtype  \n",
      "---  ------                              --------------  -----  \n",
      " 0   session                             6622 non-null   int64  \n",
      " 1   uai                                 6622 non-null   object \n",
      " 2   nom_de_l_etablissement              6622 non-null   object \n",
      " 3   commune                             6622 non-null   object \n",
      " 4   departement                         6622 non-null   object \n",
      " 5   academie                            6622 non-null   object \n",
      " 6   secteur                             6622 non-null   object \n",
      " 7   nb_candidats_g                      6622 non-null   int64  \n",
      " 8   taux_de_reussite_g                  6622 non-null   float64\n",
      " 9   va_du_taux_de_reussite_g            6622 non-null   object \n",
      " 10  nb_candidats_p                      3126 non-null   object \n",
      " 11  taux_de_reussite_p                  3126 non-null   object \n",
      " 12  note_a_l_ecrit_g                    6622 non-null   float64\n",
      " 13  va_de_la_note_g                     6622 non-null   object \n",
      " 14  note_a_l_ecrit_p                    3126 non-null   object \n",
      " 15  taux_d_acces_6eme_3eme              6622 non-null   object \n",
      " 16  part_presents_3eme_ordinaire_total  6622 non-null   int64  \n",
      " 17  part_presents_3eme_ordinaire_g      6622 non-null   object \n",
      " 18  part_presents_3eme_ordinaire_p      2101 non-null   object \n",
      " 19  part_presents_3eme_segpa_total      1447 non-null   object \n",
      " 20  nb_mentions_ab_g                    6622 non-null   int64  \n",
      " 21  nb_mentions_b_g                     6622 non-null   int64  \n",
      " 22  nb_mentions_tb_g                    6622 non-null   int64  \n",
      " 23  nb_mentions_global_g                6622 non-null   int64  \n",
      "dtypes: float64(2), int64(7), object(15)\n",
      "memory usage: 1.2+ MB\n"
     ]
    }
   ],
   "source": [
    "college_resultat.info()"
   ]
  },
  {
   "cell_type": "markdown",
   "metadata": {},
   "source": [
    "# premier nettoyage\n",
    "\n",
    "Standariser les catègories public privé dans la colonne secteur.<br>\n",
    "Standariser les rentrées scolaires<br>\n",
    "Voir pour réduire le nombre de colonne des fichiers.<br>\n",
    "college voir pour aggreger les classes. (langue séparé, est ce utile pour stats generale ?)<br>\n"
   ]
  },
  {
   "cell_type": "code",
   "execution_count": 6,
   "metadata": {},
   "outputs": [
    {
     "data": {
      "text/plain": [
       "array(['public', 'privé sous contrat'], dtype=object)"
      ]
     },
     "execution_count": 6,
     "metadata": {},
     "output_type": "execute_result"
    }
   ],
   "source": [
    "collegue_stat['secteur'].unique()"
   ]
  },
  {
   "cell_type": "code",
   "execution_count": 7,
   "metadata": {},
   "outputs": [
    {
     "data": {
      "text/plain": [
       "array(['PUBLIC', 'PRIVE'], dtype=object)"
      ]
     },
     "execution_count": 7,
     "metadata": {},
     "output_type": "execute_result"
    }
   ],
   "source": [
    "effectif_colleges['secteur'].unique()"
   ]
  },
  {
   "cell_type": "code",
   "execution_count": 8,
   "metadata": {},
   "outputs": [],
   "source": [
    "# changement dans les data ecole_stat['secteur'] et college_stat['secteur']\n",
    "# Les valeurs doivent être PRIVE ou PUBLIC\n",
    "collegue_stat['secteur'].replace({'public':'PUBLIC','privé sous contrat':'PRIVE'},inplace=True)"
   ]
  },
  {
   "cell_type": "code",
   "execution_count": 9,
   "metadata": {},
   "outputs": [
    {
     "data": {
      "text/plain": [
       "array([2019, 2020, 2022, 2021])"
      ]
     },
     "execution_count": 9,
     "metadata": {},
     "output_type": "execute_result"
    }
   ],
   "source": [
    "effectif_colleges['rentree_scolaire'].unique()"
   ]
  },
  {
   "cell_type": "code",
   "execution_count": 10,
   "metadata": {},
   "outputs": [
    {
     "data": {
      "text/plain": [
       "array(['2022-2023'], dtype=object)"
      ]
     },
     "execution_count": 10,
     "metadata": {},
     "output_type": "execute_result"
    }
   ],
   "source": [
    "collegue_stat['rentree_scolaire'].unique()"
   ]
  },
  {
   "cell_type": "code",
   "execution_count": 11,
   "metadata": {},
   "outputs": [],
   "source": [
    "# remplacer dans les données ecoles_stat et college_stat colonne rentree_scolaire 2022-2023 par 2022\n",
    "collegue_stat['rentree_scolaire'].replace({'2022-2023':2022},inplace=True)"
   ]
  },
  {
   "cell_type": "code",
   "execution_count": 12,
   "metadata": {},
   "outputs": [],
   "source": [
    "# création fichier college\n",
    "fichier_college = pd.merge(effectif_colleges,collegue_stat,left_on=['rentree_scolaire','numero_college'],right_on=['rentree_scolaire','uai'],how='outer')"
   ]
  },
  {
   "cell_type": "code",
   "execution_count": 13,
   "metadata": {},
   "outputs": [],
   "source": [
    "# supprime les colonnes en trop (doublons)\n",
    "fichier_college.drop(columns=['academie_y','departement_y','secteur_y'],inplace=True)\n",
    "# renomme les colonnes avec un _x\n",
    "fichier_college.rename(columns={'academie_x':'academie','departement_x':'departement','secteur_x':'secteur'},inplace=True)"
   ]
  },
  {
   "cell_type": "code",
   "execution_count": 14,
   "metadata": {},
   "outputs": [],
   "source": [
    "#enlevé les langues\n",
    "langue = ['eme_lv1_allemand','eme_lv1_anglais','eme_lv1_espagnol','eme_lv1_autres','eme_lv2_allemand','eme_lv2_anglais','eme_lv2_espagnol','eme_lv2_italien','eme_lv2_autres']\n",
    "for a in range(3,7,1):\n",
    "    for b in langue:\n",
    "        fichier_college.drop(columns=str(a)+b,inplace=True)\n"
   ]
  },
  {
   "cell_type": "code",
   "execution_count": 15,
   "metadata": {},
   "outputs": [],
   "source": [
    "# enlevé les colonne commune avant le merge\n",
    "college_resultat.drop(columns=['nom_de_l_etablissement','commune','departement','academie','secteur',],inplace=True)"
   ]
  },
  {
   "cell_type": "code",
   "execution_count": 16,
   "metadata": {},
   "outputs": [],
   "source": [
    "fichier_college = pd.merge(fichier_college,college_resultat,left_on='numero_college',right_on='uai',how='outer')"
   ]
  },
  {
   "cell_type": "code",
   "execution_count": 17,
   "metadata": {},
   "outputs": [
    {
     "name": "stdout",
     "output_type": "stream",
     "text": [
      "<class 'pandas.core.frame.DataFrame'>\n",
      "Int64Index: 32982 entries, 0 to 32981\n",
      "Data columns (total 67 columns):\n",
      " #   Column                                    Non-Null Count  Dtype  \n",
      "---  ------                                    --------------  -----  \n",
      " 0   rentree_scolaire                          32982 non-null  int64  \n",
      " 1   region_academique                         32982 non-null  object \n",
      " 2   academie                                  32982 non-null  object \n",
      " 3   departement                               32982 non-null  object \n",
      " 4   commune                                   32982 non-null  object \n",
      " 5   numero_college                            32982 non-null  object \n",
      " 6   denomination_principale                   32982 non-null  object \n",
      " 7   patronyme                                 32927 non-null  object \n",
      " 8   secteur                                   32982 non-null  object \n",
      " 9   rep                                       32982 non-null  int64  \n",
      " 10  rep_plus                                  32982 non-null  int64  \n",
      " 11  nombre_eleves_total                       32982 non-null  int64  \n",
      " 12  nombre_eleves_total_hors_segpa_hors_ulis  32982 non-null  int64  \n",
      " 13  nombre_eleves_segpa                       32982 non-null  int64  \n",
      " 14  nombre_eleves_ulis                        32982 non-null  int64  \n",
      " 15  6eme_total                                32982 non-null  int64  \n",
      " 16  6eme_hors_segpa_hors_ulis                 32982 non-null  int64  \n",
      " 17  6eme_segpa                                32982 non-null  int64  \n",
      " 18  6eme_ulis                                 32982 non-null  int64  \n",
      " 19  6eme_filles                               32982 non-null  int64  \n",
      " 20  6emes_garcons                             32982 non-null  int64  \n",
      " 21  5eme_total                                32982 non-null  int64  \n",
      " 22  5eme_hors_segpa_hors_ulis                 32982 non-null  int64  \n",
      " 23  5eme_segpa                                32982 non-null  int64  \n",
      " 24  5eme_ulis                                 32982 non-null  int64  \n",
      " 25  5eme_filles                               32982 non-null  int64  \n",
      " 26  5emes_garcons                             32982 non-null  int64  \n",
      " 27  4eme_total                                32982 non-null  int64  \n",
      " 28  4eme_hors_segpa_hors_ulis                 32982 non-null  int64  \n",
      " 29  4eme_segpa                                32982 non-null  int64  \n",
      " 30  4eme_ulis                                 32982 non-null  int64  \n",
      " 31  4eme_filles                               32982 non-null  int64  \n",
      " 32  4emes_garcons                             32982 non-null  int64  \n",
      " 33  3eme_total                                32982 non-null  int64  \n",
      " 34  3eme_hors_segpa_hors_ulis                 32982 non-null  int64  \n",
      " 35  3eme_segpa                                32982 non-null  int64  \n",
      " 36  3eme_ulis                                 32982 non-null  int64  \n",
      " 37  3eme_filles                               32982 non-null  int64  \n",
      " 38  3emes_garcons                             32982 non-null  int64  \n",
      " 39  code_postal                               32862 non-null  float64\n",
      " 40  code_du_departement                       6973 non-null   object \n",
      " 41  uai_x                                     6973 non-null   object \n",
      " 42  nom_de_l_etablissment                     6973 non-null   object \n",
      " 43  code_insee_de_la_commune                  6973 non-null   object \n",
      " 44  nom_de_la_commune                         6973 non-null   object \n",
      " 45  effectifs                                 6973 non-null   float64\n",
      " 46  ips                                       6973 non-null   float64\n",
      " 47  ecart_type_de_l_ips                       6973 non-null   float64\n",
      " 48  session                                   26462 non-null  float64\n",
      " 49  uai_y                                     26462 non-null  object \n",
      " 50  nb_candidats_g                            26462 non-null  float64\n",
      " 51  taux_de_reussite_g                        26462 non-null  float64\n",
      " 52  va_du_taux_de_reussite_g                  26462 non-null  object \n",
      " 53  nb_candidats_p                            12485 non-null  object \n",
      " 54  taux_de_reussite_p                        12485 non-null  object \n",
      " 55  note_a_l_ecrit_g                          26462 non-null  float64\n",
      " 56  va_de_la_note_g                           26462 non-null  object \n",
      " 57  note_a_l_ecrit_p                          12485 non-null  object \n",
      " 58  taux_d_acces_6eme_3eme                    26462 non-null  object \n",
      " 59  part_presents_3eme_ordinaire_total        26462 non-null  float64\n",
      " 60  part_presents_3eme_ordinaire_g            26462 non-null  object \n",
      " 61  part_presents_3eme_ordinaire_p            8388 non-null   object \n",
      " 62  part_presents_3eme_segpa_total            5782 non-null   object \n",
      " 63  nb_mentions_ab_g                          26462 non-null  float64\n",
      " 64  nb_mentions_b_g                           26462 non-null  float64\n",
      " 65  nb_mentions_tb_g                          26462 non-null  float64\n",
      " 66  nb_mentions_global_g                      26462 non-null  float64\n",
      "dtypes: float64(13), int64(31), object(23)\n",
      "memory usage: 17.1+ MB\n"
     ]
    }
   ],
   "source": [
    "fichier_college.info()"
   ]
  },
  {
   "cell_type": "code",
   "execution_count": 18,
   "metadata": {},
   "outputs": [],
   "source": [
    "fichier_college.drop(columns=['uai_x','uai_y','nom_de_la_commune','nom_de_l_etablissment','code_du_departement'],inplace=True)"
   ]
  },
  {
   "cell_type": "markdown",
   "metadata": {},
   "source": [
    "## graphes France généraux école primaire :\n",
    "voir l évolution des effectifs globale des effectifs au college<br>\n",
    "voir la repartition dans les classes en 2022<br>"
   ]
  }
 ],
 "metadata": {
  "kernelspec": {
   "display_name": "Python 3",
   "language": "python",
   "name": "python3"
  },
  "language_info": {
   "codemirror_mode": {
    "name": "ipython",
    "version": 3
   },
   "file_extension": ".py",
   "mimetype": "text/x-python",
   "name": "python",
   "nbconvert_exporter": "python",
   "pygments_lexer": "ipython3",
   "version": "3.11.7"
  }
 },
 "nbformat": 4,
 "nbformat_minor": 2
}
