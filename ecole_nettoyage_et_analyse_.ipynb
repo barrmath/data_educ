{
 "cells": [
  {
   "cell_type": "markdown",
   "metadata": {},
   "source": [
    "# Analyse de base des fichiers éducation nationale. \n",
    "Objectif : voir les données, trouvé des pistes pour comprendre l'echec scolaire."
   ]
  },
  {
   "cell_type": "code",
   "execution_count": null,
   "metadata": {},
   "outputs": [],
   "source": [
    "# import bibliothéques d'analyse de python\n",
    "import pandas as pd\n",
    "import matplotlib.pyplot as plt\n",
    "from matplotlib.ticker import MaxNLocator\n",
    "from matplotlib.ticker import FuncFormatter\n",
    "import seaborn as sns\n",
    "from bokeh.models import ColumnDataSource\n",
    "from bokeh.plotting import figure, show\n",
    "from bokeh.io import output_notebook\n",
    "from bokeh.models.tools import HoverTool\n"
   ]
  },
  {
   "cell_type": "code",
   "execution_count": null,
   "metadata": {},
   "outputs": [],
   "source": [
    "# import des données en RAM avec pandas\n",
    "effectif_prim = pd.read_csv(\"donnee/fr-en-ecoles-effectifs-nb_classes.csv\",sep=\";\")\n",
    "ecole_stat = pd.read_csv(\"donnee/fr-en-ips-ecoles-ap2022.csv\",sep=\";\")\n"
   ]
  },
  {
   "cell_type": "markdown",
   "metadata": {},
   "source": [
    "## Affichage des entêtes des données\n",
    "Pour les écoles primaires :"
   ]
  },
  {
   "cell_type": "code",
   "execution_count": null,
   "metadata": {},
   "outputs": [],
   "source": [
    "effectif_prim.head(1)"
   ]
  },
  {
   "cell_type": "code",
   "execution_count": null,
   "metadata": {},
   "outputs": [],
   "source": [
    "ecole_stat.head(1)"
   ]
  },
  {
   "cell_type": "markdown",
   "metadata": {},
   "source": [
    "# premier nettoyage\n",
    "\n",
    "Standariser les catègories public privé dans la colonne secteur.<br>\n",
    "Standariser les rentrées scolaires<br>\n",
    "Voir pour réduire le nombre de colonne des fichiers.<br>\n",
    "colone tri dans effectif ecole<br>\n"
   ]
  },
  {
   "cell_type": "code",
   "execution_count": null,
   "metadata": {},
   "outputs": [],
   "source": [
    "ecole_stat['secteur'].unique()"
   ]
  },
  {
   "cell_type": "code",
   "execution_count": null,
   "metadata": {},
   "outputs": [],
   "source": [
    "effectif_prim['secteur'].unique()"
   ]
  },
  {
   "cell_type": "code",
   "execution_count": null,
   "metadata": {},
   "outputs": [],
   "source": [
    "# changement dans les data ecole_stat['secteur'] et college_stat['secteur']\n",
    "# Les valeurs doivent être PRIVE ou PUBLIC\n",
    "ecole_stat['secteur'].replace({'public':'PUBLIC','privé sous contrat':'PRIVE'},inplace=True)"
   ]
  },
  {
   "cell_type": "code",
   "execution_count": null,
   "metadata": {},
   "outputs": [],
   "source": [
    "effectif_prim['rentree_scolaire'].unique()"
   ]
  },
  {
   "cell_type": "code",
   "execution_count": null,
   "metadata": {},
   "outputs": [],
   "source": [
    "ecole_stat['rentree_scolaire'].unique()"
   ]
  },
  {
   "cell_type": "code",
   "execution_count": null,
   "metadata": {},
   "outputs": [],
   "source": [
    "# remplacer dans les données ecoles_stat colonne rentree_scolaire 2022-2023 par 2022\n",
    "ecole_stat['rentree_scolaire'].replace({'2022-2023':2022},inplace=True)"
   ]
  },
  {
   "cell_type": "code",
   "execution_count": null,
   "metadata": {},
   "outputs": [],
   "source": [
    "effectif_prim.drop(columns='tri',inplace=True)"
   ]
  },
  {
   "cell_type": "code",
   "execution_count": null,
   "metadata": {},
   "outputs": [],
   "source": [
    "# patronyme contient des Nan remplcer par un espaces\n",
    "effectif_prim['patronyme'].fillna(\" \",inplace=True)"
   ]
  },
  {
   "cell_type": "code",
   "execution_count": null,
   "metadata": {},
   "outputs": [],
   "source": [
    "effectif_prim.info()"
   ]
  },
  {
   "cell_type": "code",
   "execution_count": null,
   "metadata": {},
   "outputs": [],
   "source": [
    "effectif_prim[effectif_prim['numero_ecole'] == '0691092M']"
   ]
  },
  {
   "cell_type": "code",
   "execution_count": null,
   "metadata": {},
   "outputs": [],
   "source": [
    "effectif_prim[(effectif_prim.rep == 1) & (effectif_prim.rep_plus == 1)]"
   ]
  },
  {
   "cell_type": "code",
   "execution_count": null,
   "metadata": {},
   "outputs": [],
   "source": [
    "fichier_ecole_elementaire = pd.merge(ecole_stat,effectif_prim,left_on=['rentree_scolaire','uai'],right_on=['rentree_scolaire','numero_ecole'],how='outer')"
   ]
  },
  {
   "cell_type": "code",
   "execution_count": null,
   "metadata": {},
   "outputs": [],
   "source": [
    "fichier_ecole_elementaire.info()"
   ]
  },
  {
   "cell_type": "code",
   "execution_count": null,
   "metadata": {},
   "outputs": [],
   "source": [
    "# supression colonne en double\n",
    "fichier_ecole_elementaire.drop(columns=['academie_x','departement_x','secteur_x'],inplace=True)\n",
    "# renomme les colonnes avec un _y\n",
    "fichier_ecole_elementaire.rename(columns={'academie_y':'academie','departement_y':'departement','secteur_y':'secteur'},inplace=True)"
   ]
  },
  {
   "cell_type": "markdown",
   "metadata": {},
   "source": [
    "## graphes France généraux école primaire :\n",
    "voir l évolution des effectifs globale des effectifs en primaire<br>\n",
    "voir la repartition dans les classes en 2022<br>"
   ]
  },
  {
   "cell_type": "code",
   "execution_count": null,
   "metadata": {},
   "outputs": [],
   "source": [
    "# style graphe :\n",
    "sns.set_theme(style=\"whitegrid\")\n",
    "#plt.style.use(\"dark_background\")\n",
    "sns.set_context(\"notebook\", font_scale=1.5, rc={\"lines.linewidth\": 2.5})\n",
    "palette = sns.color_palette().as_hex()\n",
    "# bokeh\n",
    "output_notebook()"
   ]
  },
  {
   "cell_type": "code",
   "execution_count": null,
   "metadata": {},
   "outputs": [],
   "source": [
    "france_ecole = fichier_ecole_elementaire.groupby(by='rentree_scolaire').sum(numeric_only=True)\n",
    "\n",
    "france_ecole_mean = fichier_ecole_elementaire.groupby(by='rentree_scolaire').agg({\"effectifs\":\"mean\",'ips':'mean'},numeric_only=True)\n",
    "france_ecole.reset_index(inplace=True)\n",
    "france_ecole_mean.reset_index(inplace=True)\n",
    "france_ecole = pd.merge(france_ecole,france_ecole_mean,on=['rentree_scolaire'],how='outer')\n",
    "france_ecole.drop(columns=['effectifs_x','ips_x'],inplace=True)\n",
    "france_ecole.rename(columns={'effectifs_y':'effectifs','ips_y':'ips'},inplace=True)\n",
    "del france_ecole_mean"
   ]
  },
  {
   "cell_type": "code",
   "execution_count": null,
   "metadata": {},
   "outputs": [],
   "source": [
    "france_ecole[\"pourcentage_ulis\"] = france_ecole[\"nombre_eleves_ulis\"] / france_ecole[\"nombre_total_eleves\"] *100\n",
    "france_ecole[\"ulis_moyen_classe\"] = france_ecole[\"nombre_eleves_ulis\"] / france_ecole[\"nombre_total_classes\"]"
   ]
  },
  {
   "cell_type": "code",
   "execution_count": null,
   "metadata": {},
   "outputs": [],
   "source": [
    "france_ecole.head()"
   ]
  },
  {
   "cell_type": "code",
   "execution_count": null,
   "metadata": {},
   "outputs": [],
   "source": [
    "france_ecole[\"Nombre_eleves_par_classe_moyenne\"] = france_ecole['nombre_total_eleves'] / france_ecole['nombre_total_classes']"
   ]
  },
  {
   "cell_type": "code",
   "execution_count": null,
   "metadata": {},
   "outputs": [],
   "source": [
    "fig,ax = plt.subplots()\n",
    "sns.lineplot(data=france_ecole,x='rentree_scolaire',y='nombre_total_eleves',ax=ax)\n",
    "ax.set_ylim(0)\n",
    "ax.ticklabel_format(axis='y',style='plain')\n",
    "ax.xaxis.set_major_locator(MaxNLocator(integer=True))\n",
    "ax.get_yaxis().set_major_formatter(FuncFormatter(lambda x, p: format(int(x), \",\")))\n",
    "ax.set_title(\"nombre d'éleve total par an\")\n",
    "ax.set_xlabel(\"année\")\n",
    "ax.set_ylabel(\"nombre total d'éleves\")\n",
    "plt.show()\n"
   ]
  },
  {
   "cell_type": "markdown",
   "metadata": {},
   "source": [
    "Le nombre d'éleve baisse depuis 4 ans."
   ]
  },
  {
   "cell_type": "code",
   "execution_count": null,
   "metadata": {},
   "outputs": [],
   "source": [
    "fig,ax = plt.subplots()\n",
    "sns.lineplot(data=france_ecole,x='rentree_scolaire',y='nombre_total_classes',ax=ax)\n",
    "ax.xaxis.set_major_locator(MaxNLocator(integer=True))\n",
    "ax.set_title(\"nombre de classe de 2019 à 2022\")\n",
    "ax.set_xlabel(\"année\")\n",
    "ax.set_ylabel(\"nombre de classe\")\n",
    "ax.set_ylim(240000)\n",
    "plt.show()"
   ]
  },
  {
   "cell_type": "markdown",
   "metadata": {},
   "source": [
    "Le nombre de classe augmente. "
   ]
  },
  {
   "cell_type": "code",
   "execution_count": null,
   "metadata": {},
   "outputs": [],
   "source": [
    "fig,ax = plt.subplots()\n",
    "fig.set_size_inches(8,8)\n",
    "sns.lineplot(data=france_ecole,x='rentree_scolaire',y='Nombre_eleves_par_classe_moyenne',ax=ax)\n",
    "ax.xaxis.set_major_locator(MaxNLocator(integer=True))\n",
    "ax.set_title(\"nombre moyen d'éléve par classe entre 2019 et 2022\")\n",
    "ax.set_xlabel(\"annéé\")\n",
    "ax.set_ylabel(\"nombre moyen déleve par classe\")\n",
    "ax.set_ylim()\n",
    "plt.show()"
   ]
  },
  {
   "cell_type": "markdown",
   "metadata": {},
   "source": [
    "Le nombre d´éléve diminue et le nombre de classe augmente. Sans surprise le nombre moyen d'éléve par classe diminue."
   ]
  },
  {
   "cell_type": "code",
   "execution_count": null,
   "metadata": {},
   "outputs": [],
   "source": [
    "fig,ax = plt.subplots()\n",
    "sns.lineplot(data=france_ecole,x='rentree_scolaire',y='rep',ax=ax)\n",
    "ax.xaxis.set_major_locator(MaxNLocator(integer=True))\n",
    "ax.set_title(\"nombre d'établissements REP en France entre 2019 et 2022\",pad=15)\n",
    "ax.set_xlabel(\"année\")\n",
    "ax.set_ylabel(\"Nombre d'établissements REP\")\n",
    "ax.set_ylim(0)\n",
    "plt.show()"
   ]
  },
  {
   "cell_type": "markdown",
   "metadata": {},
   "source": [
    "Le nombre d'établissement en wone REP baisse légérement."
   ]
  },
  {
   "cell_type": "code",
   "execution_count": null,
   "metadata": {},
   "outputs": [],
   "source": [
    "fig,ax = plt.subplots()\n",
    "fig.set_size_inches(8,8)\n",
    "sns.lineplot(data=france_ecole,x='rentree_scolaire',y='rep_plus',ax=ax)\n",
    "ax.xaxis.set_major_locator(MaxNLocator(integer=True))\n",
    "ax.set_title(\"nombre d'établissement REP+ en France entre 2019 et 2022\",pad=15)\n",
    "ax.set_xlabel(\"année\")\n",
    "ax.set_ylabel(\"nombre établissement REP+\")\n",
    "ax.set_ylim(0,3000)\n",
    "plt.show()"
   ]
  },
  {
   "cell_type": "markdown",
   "metadata": {},
   "source": [
    "Le nombre d'établissement en zone REP + est stable."
   ]
  },
  {
   "cell_type": "code",
   "execution_count": null,
   "metadata": {},
   "outputs": [],
   "source": [
    "fig,ax = plt.subplots()\n",
    "sns.lineplot(data=france_ecole,x='rentree_scolaire',y='nombre_eleves_ulis',ax=ax)\n",
    "ax.xaxis.set_major_locator(MaxNLocator(integer=True))\n",
    "ax.set_title(\"nombre d'éléves Ulis en France entre 2019 et 2022\")\n",
    "ax.set_xlabel(\"année\")\n",
    "ax.set_ylabel(\"Nombre d'éléves Ulis\")\n",
    "ax.set_ylim(0)\n",
    "plt.show()"
   ]
  },
  {
   "cell_type": "markdown",
   "metadata": {},
   "source": [
    "Le nombre d'éléves Ulis augmente depuis 4 ans."
   ]
  },
  {
   "cell_type": "code",
   "execution_count": null,
   "metadata": {},
   "outputs": [],
   "source": [
    "fig,ax = plt.subplots()\n",
    "sns.lineplot(data=france_ecole,x='rentree_scolaire',y='ulis_moyen_classe',ax=ax)\n",
    "ax.xaxis.set_major_locator(MaxNLocator(integer=True))\n",
    "ax.set_title(\"nombre moyen d'éléves Ulis en France entre 2019 et 2022\",pad=15)\n",
    "ax.set_xlabel(\"année\")\n",
    "ax.set_ylabel(\"Nombre moyen d'éléves Ulis\")\n",
    "ax.set_ylim(0)\n",
    "plt.show()"
   ]
  },
  {
   "cell_type": "markdown",
   "metadata": {},
   "source": [
    "Environ une classe sur 6 à un éléve Ulis."
   ]
  },
  {
   "cell_type": "code",
   "execution_count": null,
   "metadata": {},
   "outputs": [],
   "source": [
    "fig,ax = plt.subplots()\n",
    "sns.lineplot(data=france_ecole,x='rentree_scolaire',y='pourcentage_ulis',ax=ax)\n",
    "ax.xaxis.set_major_locator(MaxNLocator(integer=True))\n",
    "ax.set_title(\"pourcentage Ulis en France entre 2019 et 2022\",pad=15)\n",
    "ax.set_xlabel(\"année\")\n",
    "ax.set_ylabel(\"Pourcentage moyen d'éléves Ulis\")\n",
    "ax.set_ylim(0)\n",
    "plt.show()"
   ]
  },
  {
   "cell_type": "markdown",
   "metadata": {},
   "source": [
    "Les ulis representent environ 1 éléve sur 100. "
   ]
  },
  {
   "cell_type": "code",
   "execution_count": null,
   "metadata": {},
   "outputs": [],
   "source": [
    "#ce limité a 2022 et voir les ulis dans les classes\n",
    "# donnée non dispo ?"
   ]
  },
  {
   "cell_type": "code",
   "execution_count": null,
   "metadata": {},
   "outputs": [],
   "source": [
    "\n",
    "fig,ax = plt.subplots()\n",
    "sns.barplot(data=france_ecole, y=\"ips\",ax=ax,estimator=\"sum\",errorbar=None)\n",
    "ax.set_title(\"Indice de Position Sociale moyen en 2022\",pad=15)\n",
    "ax.set_ylabel(\"Valeur IPS\")\n",
    "ax.bar_label(ax.containers[0], fontsize=10)\n",
    "ax.set_ylim(0)\n",
    "plt.show()"
   ]
  },
  {
   "cell_type": "markdown",
   "metadata": {},
   "source": [
    "Conclusion France général: <br>\n",
    "Le nombre d'éléve par classe à baisser en France. Cela est du en partie à une baisse du nombre d'éléve, mais aussi à l'augmentation du nombre de classe.\n",
    "Il faut aussi noter une augmentation du nombre d'éléve Ulis qui nécéssite plus d'attention. "
   ]
  },
  {
   "cell_type": "code",
   "execution_count": null,
   "metadata": {},
   "outputs": [],
   "source": [
    "# libéré un peu de mémoire. \n",
    "del france_ecole"
   ]
  },
  {
   "cell_type": "markdown",
   "metadata": {},
   "source": [
    "# Analyse générale public/privée en France"
   ]
  },
  {
   "cell_type": "code",
   "execution_count": null,
   "metadata": {},
   "outputs": [],
   "source": [
    "# creer un fichier france privée_public\n",
    "france_ecole_public_prive_mean = fichier_ecole_elementaire.groupby(by=['rentree_scolaire','secteur']).agg({\"effectifs\":\"mean\",'ips':'mean'},numeric_only=True)\n",
    "france_ecole_public_prive = fichier_ecole_elementaire.groupby(by=['rentree_scolaire','secteur']).sum(numeric_only=True)\n",
    "france_ecole_public_prive.reset_index(inplace=True)\n",
    "france_ecole_public_prive_mean.reset_index(inplace=True)\n",
    "france_ecole_public_prive = pd.merge(france_ecole_public_prive,france_ecole_public_prive_mean,on=['rentree_scolaire','secteur'],how='outer')\n",
    "france_ecole_public_prive.drop(columns=['effectifs_x','ips_x'],inplace=True)\n",
    "france_ecole_public_prive.rename(columns={'effectifs_y':'effectifs','ips_y':'ips'},inplace=True)\n",
    "del france_ecole_public_prive_mean"
   ]
  },
  {
   "cell_type": "code",
   "execution_count": null,
   "metadata": {},
   "outputs": [],
   "source": [
    "france_ecole_public_prive[\"pourcentage_ulis\"] = france_ecole_public_prive[\"nombre_eleves_ulis\"] / france_ecole_public_prive[\"nombre_total_eleves\"] *100\n",
    "france_ecole_public_prive[\"ulis_moyen_classe\"] = france_ecole_public_prive[\"nombre_eleves_ulis\"] / france_ecole_public_prive[\"nombre_total_classes\"]\n",
    "france_ecole_public_prive[\"Nombre_eleves_par_classe_moyenne\"] = france_ecole_public_prive['nombre_total_eleves'] / france_ecole_public_prive['nombre_total_classes']"
   ]
  },
  {
   "cell_type": "code",
   "execution_count": null,
   "metadata": {},
   "outputs": [],
   "source": [
    "france_ecole_public_prive.head(10)"
   ]
  },
  {
   "cell_type": "code",
   "execution_count": null,
   "metadata": {},
   "outputs": [],
   "source": [
    "fig,ax = plt.subplots()\n",
    "sns.lineplot(data=france_ecole_public_prive,x='rentree_scolaire',y='nombre_total_eleves',hue=\"secteur\",ax=ax)\n",
    "ax.set_ylim(0)\n",
    "ax.ticklabel_format(axis='y',style='plain')\n",
    "ax.xaxis.set_major_locator(MaxNLocator(integer=True))\n",
    "ax.get_yaxis().set_major_formatter(FuncFormatter(lambda x, p: format(int(x), \",\")))\n",
    "ax.set_title(\"nombre d'éleve total par an\")\n",
    "ax.set_xlabel(\"année\")\n",
    "ax.set_ylabel(\"nombre total d'éleves\")\n",
    "plt.show()"
   ]
  },
  {
   "cell_type": "markdown",
   "metadata": {},
   "source": [
    "Le secteur public connait une plus forte baisse du nombre d'éléve que le privée.<br>\n",
    "Le secteur privée reste relativement stable mais en légére baisse<br>"
   ]
  },
  {
   "cell_type": "code",
   "execution_count": null,
   "metadata": {},
   "outputs": [],
   "source": [
    "fig,ax = plt.subplots()\n",
    "sns.lineplot(data=france_ecole_public_prive,x='rentree_scolaire',y='nombre_total_classes',hue=\"secteur\",ax=ax)\n",
    "ax.xaxis.set_major_locator(MaxNLocator(integer=True))\n",
    "ax.set_title(\"nombre de classe de 2019 à 2022\")\n",
    "ax.set_xlabel(\"année\")\n",
    "ax.set_ylabel(\"nombre de classe\")\n",
    "ax.set_ylim(0)\n",
    "plt.show()"
   ]
  },
  {
   "cell_type": "markdown",
   "metadata": {},
   "source": [
    "Le nombre de classe en seceur privée est relativement stable. Le secteur public connais une légére augmentation du nombre de classe."
   ]
  },
  {
   "cell_type": "code",
   "execution_count": null,
   "metadata": {},
   "outputs": [],
   "source": [
    "fig,ax = plt.subplots()\n",
    "fig.set_size_inches(8,8)\n",
    "sns.lineplot(data=france_ecole_public_prive,x='rentree_scolaire',y='Nombre_eleves_par_classe_moyenne',hue=\"secteur\",ax=ax)\n",
    "ax.xaxis.set_major_locator(MaxNLocator(integer=True))\n",
    "ax.set_title(\"nombre moyen d'éléve par classe entre 2019 et 2022\")\n",
    "ax.set_xlabel(\"annéé\")\n",
    "ax.set_ylabel(\"nombre moyen déleve par classe\")\n",
    "ax.set_ylim()\n",
    "plt.show()"
   ]
  },
  {
   "cell_type": "markdown",
   "metadata": {},
   "source": [
    "Les éléves sont plus nombreux dans les classes du privée que dans les classes du public.<br>\n",
    "On peux noter une chute du nombre d'éléve dans les 2 secteur. Mais une chute plus forte dans le public.<br> "
   ]
  },
  {
   "cell_type": "code",
   "execution_count": null,
   "metadata": {},
   "outputs": [],
   "source": [
    "fig,ax = plt.subplots()\n",
    "fig.set_size_inches(8,8)\n",
    "sns.lineplot(data=france_ecole_public_prive,x='rentree_scolaire',y='rep',hue='secteur',ax=ax)\n",
    "ax.xaxis.set_major_locator(MaxNLocator(integer=True))\n",
    "ax.set_title(\"nombre d'établissement REP en France entre 2019 et 2022\",pad=15)\n",
    "ax.set_xlabel(\"année\")\n",
    "ax.set_ylabel(\"nombre établissement REP\")\n",
    "ax.set_ylim()\n",
    "plt.show()"
   ]
  },
  {
   "cell_type": "markdown",
   "metadata": {},
   "source": [
    "Pas de REP en privée."
   ]
  },
  {
   "cell_type": "code",
   "execution_count": null,
   "metadata": {},
   "outputs": [],
   "source": [
    "fig,ax = plt.subplots()\n",
    "fig.set_size_inches(8,8)\n",
    "sns.lineplot(data=france_ecole_public_prive,x='rentree_scolaire',y='rep_plus',hue='secteur',ax=ax)\n",
    "ax.xaxis.set_major_locator(MaxNLocator(integer=True))\n",
    "ax.set_title(\"nombre d'établissement REP+ en France entre 2019 et 2022\",pad=15)\n",
    "ax.set_xlabel(\"année\")\n",
    "ax.set_ylabel(\"nombre établissement REP+\")\n",
    "ax.set_ylim()\n",
    "plt.show()"
   ]
  },
  {
   "cell_type": "markdown",
   "metadata": {},
   "source": [
    "pas de REP+ en privée."
   ]
  },
  {
   "cell_type": "code",
   "execution_count": null,
   "metadata": {},
   "outputs": [],
   "source": [
    "fig,ax = plt.subplots()\n",
    "sns.lineplot(data=france_ecole_public_prive,x='rentree_scolaire',y='nombre_eleves_ulis',hue=\"secteur\",ax=ax)\n",
    "ax.xaxis.set_major_locator(MaxNLocator(integer=True))\n",
    "ax.set_title(\"nombre d'éléves Ulis en France entre 2019 et 2022\")\n",
    "ax.set_xlabel(\"année\")\n",
    "ax.set_ylabel(\"Nombre d'éléves Ulis\")\n",
    "ax.set_ylim(0)\n",
    "plt.show()"
   ]
  },
  {
   "cell_type": "markdown",
   "metadata": {},
   "source": [
    "Il y a des éléves Ulis dans le privée et dans le public"
   ]
  },
  {
   "cell_type": "code",
   "execution_count": null,
   "metadata": {},
   "outputs": [],
   "source": [
    "fig,ax = plt.subplots()\n",
    "sns.lineplot(data=france_ecole_public_prive,x='rentree_scolaire',y='ulis_moyen_classe',hue='secteur',ax=ax)\n",
    "ax.xaxis.set_major_locator(MaxNLocator(integer=True))\n",
    "ax.set_title(\"nombre d´éléve Ulis moyen par Classe entre 2019 et 2022\",pad=15)\n",
    "ax.set_xlabel(\"année\")\n",
    "ax.set_ylabel(\"nombre moyen d'éléves Ulis\")\n",
    "ax.set_ylim(0)\n",
    "plt.show()"
   ]
  },
  {
   "cell_type": "markdown",
   "metadata": {},
   "source": [
    "Mais dans une proportion moindre. Il y a 2 fois plus d'éléve Ulis dans le public que dans le privée."
   ]
  },
  {
   "cell_type": "code",
   "execution_count": null,
   "metadata": {},
   "outputs": [],
   "source": [
    "fig,ax = plt.subplots()\n",
    "sns.lineplot(data=france_ecole_public_prive,x='rentree_scolaire',y='pourcentage_ulis',hue='secteur',ax=ax)\n",
    "ax.xaxis.set_major_locator(MaxNLocator(integer=True))\n",
    "ax.set_title(\"pourcentage Ulis en France entre 2019 et 2022\",pad=15)\n",
    "ax.set_xlabel(\"année\")\n",
    "ax.set_ylabel(\"Pourcentage moyen d'éléves Ulis\")\n",
    "ax.set_ylim(0)\n",
    "plt.show()"
   ]
  },
  {
   "cell_type": "markdown",
   "metadata": {},
   "source": [
    "Nous avons donc 2 fois moins de chance d'avoir un éléves Ulis dans le privée que dans le public."
   ]
  },
  {
   "cell_type": "code",
   "execution_count": null,
   "metadata": {},
   "outputs": [],
   "source": [
    "fig,ax = plt.subplots()\n",
    "sns.barplot(data=france_ecole_public_prive,x='secteur', y=\"ips\",ax=ax,estimator=\"sum\",errorbar=None)\n",
    "ax.set_title(\"Indice de Position Sociale moyen en 2022\",pad=15)\n",
    "ax.set_ylabel(\"Valeur IPS\")\n",
    "ax.bar_label(ax.containers[0], fontsize=10)\n",
    "ax.set_ylim(0)\n",
    "plt.show()"
   ]
  },
  {
   "cell_type": "markdown",
   "metadata": {},
   "source": [
    "Sans grande surprise, dans le privée le niveau social est plus haut."
   ]
  },
  {
   "cell_type": "code",
   "execution_count": null,
   "metadata": {},
   "outputs": [],
   "source": [
    "fichier_ecole_elementaire.info()"
   ]
  },
  {
   "cell_type": "code",
   "execution_count": null,
   "metadata": {},
   "outputs": [],
   "source": [
    "sns.scatterplot(data=fichier_ecole_elementaire,x='ips',y='nombre_eleves_ulis',hue='secteur' )"
   ]
  },
  {
   "cell_type": "code",
   "execution_count": null,
   "metadata": {},
   "outputs": [],
   "source": [
    "fichier_ecole_elementaire['Nombre_eleves_par_classe_moyenne'] = fichier_ecole_elementaire['nombre_total_eleves'] / fichier_ecole_elementaire['nombre_total_classes']\n",
    "fichier_ecole_elementaire[\"ulis_moyen_classe\"] = fichier_ecole_elementaire[\"nombre_eleves_ulis\"] / fichier_ecole_elementaire[\"nombre_total_classes\"]"
   ]
  },
  {
   "cell_type": "code",
   "execution_count": null,
   "metadata": {},
   "outputs": [],
   "source": [
    "sns.scatterplot(data=fichier_ecole_elementaire,x='ips',y='Nombre_eleves_par_classe_moyenne',hue='secteur' )"
   ]
  },
  {
   "cell_type": "code",
   "execution_count": null,
   "metadata": {},
   "outputs": [],
   "source": [
    "fichier_ecole_elementaire.to_csv('donnee_temp/ecole.csv',index=False)"
   ]
  }
 ],
 "metadata": {
  "kernelspec": {
   "display_name": "Python 3 (ipykernel)",
   "language": "python",
   "name": "python3"
  },
  "language_info": {
   "codemirror_mode": {
    "name": "ipython",
    "version": 3
   },
   "file_extension": ".py",
   "mimetype": "text/x-python",
   "name": "python",
   "nbconvert_exporter": "python",
   "pygments_lexer": "ipython3",
   "version": "3.11.8"
  }
 },
 "nbformat": 4,
 "nbformat_minor": 4
}
