{
 "cells": [
  {
   "cell_type": "markdown",
   "metadata": {},
   "source": [
    "# Analyse de base des fichiers éducation nationale. \n",
    "Objectif : nettoyer et fussionner les données pour uen future analyse et créer des colonnes précalculées."
   ]
  },
  {
   "cell_type": "code",
   "execution_count": 1,
   "metadata": {},
   "outputs": [],
   "source": [
    "# import bibliothéques d'analyse de python\n",
    "import pandas as pd\n"
   ]
  },
  {
   "cell_type": "code",
   "execution_count": 2,
   "metadata": {},
   "outputs": [],
   "source": [
    "# import des données en RAM avec pandas\n",
    "effectif_prim = pd.read_csv(\"donnee/fr-en-ecoles-effectifs-nb_classes.csv\",sep=\";\",low_memory=False)\n",
    "ecole_stat = pd.read_csv(\"donnee/fr-en-ips-ecoles-ap2022.csv\",sep=\";\",low_memory=False)\n"
   ]
  },
  {
   "cell_type": "markdown",
   "metadata": {},
   "source": [
    "## Affichage des données brutes"
   ]
  },
  {
   "cell_type": "code",
   "execution_count": 3,
   "metadata": {},
   "outputs": [
    {
     "data": {
      "text/html": [
       "<div>\n",
       "<style scoped>\n",
       "    .dataframe tbody tr th:only-of-type {\n",
       "        vertical-align: middle;\n",
       "    }\n",
       "\n",
       "    .dataframe tbody tr th {\n",
       "        vertical-align: top;\n",
       "    }\n",
       "\n",
       "    .dataframe thead th {\n",
       "        text-align: right;\n",
       "    }\n",
       "</style>\n",
       "<table border=\"1\" class=\"dataframe\">\n",
       "  <thead>\n",
       "    <tr style=\"text-align: right;\">\n",
       "      <th></th>\n",
       "      <th>Rentrée scolaire</th>\n",
       "      <th>Région académique</th>\n",
       "      <th>Académie</th>\n",
       "      <th>Département</th>\n",
       "      <th>Commune</th>\n",
       "      <th>Numéro de l'école</th>\n",
       "      <th>Dénomination principale</th>\n",
       "      <th>Patronyme</th>\n",
       "      <th>Secteur</th>\n",
       "      <th>REP</th>\n",
       "      <th>...</th>\n",
       "      <th>Nombre d'élèves en pré-élémentaire hors ULIS</th>\n",
       "      <th>Nombre d'élèves en élémentaire hors ULIS</th>\n",
       "      <th>Nombre d'élèves en ULIS</th>\n",
       "      <th>Nombre d'élèves en CP hors ULIS</th>\n",
       "      <th>Nombre d'élèves en CE1 hors ULIS</th>\n",
       "      <th>Nombre d'élèves en CE2 hors ULIS</th>\n",
       "      <th>Nombre d'élèves en CM1 hors ULIS</th>\n",
       "      <th>Nombre d'élèves en CM2 hors ULIS</th>\n",
       "      <th>tri</th>\n",
       "      <th>Code Postal</th>\n",
       "    </tr>\n",
       "  </thead>\n",
       "  <tbody>\n",
       "    <tr>\n",
       "      <th>0</th>\n",
       "      <td>2022</td>\n",
       "      <td>AUVERGNE-ET-RHONE-ALPES</td>\n",
       "      <td>CLERMONT-FERRAND</td>\n",
       "      <td>ALLIER</td>\n",
       "      <td>ABREST</td>\n",
       "      <td>0030701W</td>\n",
       "      <td>ECOLE PRIMAIRE PUBLIQUE</td>\n",
       "      <td>NaN</td>\n",
       "      <td>PUBLIC</td>\n",
       "      <td>0</td>\n",
       "      <td>...</td>\n",
       "      <td>56</td>\n",
       "      <td>108</td>\n",
       "      <td>0</td>\n",
       "      <td>16</td>\n",
       "      <td>22</td>\n",
       "      <td>18</td>\n",
       "      <td>31</td>\n",
       "      <td>21</td>\n",
       "      <td>78-AUVERGNE-ET-RHONE-ALPES-CLERMONT-FERRAND-AL...</td>\n",
       "      <td>3200</td>\n",
       "    </tr>\n",
       "  </tbody>\n",
       "</table>\n",
       "<p>1 rows × 23 columns</p>\n",
       "</div>"
      ],
      "text/plain": [
       "   Rentrée scolaire        Région académique          Académie Département  \\\n",
       "0              2022  AUVERGNE-ET-RHONE-ALPES  CLERMONT-FERRAND      ALLIER   \n",
       "\n",
       "  Commune Numéro de l'école  Dénomination principale Patronyme Secteur  REP  \\\n",
       "0  ABREST          0030701W  ECOLE PRIMAIRE PUBLIQUE       NaN  PUBLIC    0   \n",
       "\n",
       "   ...  Nombre d'élèves en pré-élémentaire hors ULIS  \\\n",
       "0  ...                                            56   \n",
       "\n",
       "   Nombre d'élèves en élémentaire hors ULIS  Nombre d'élèves en ULIS  \\\n",
       "0                                       108                        0   \n",
       "\n",
       "   Nombre d'élèves en CP hors ULIS  Nombre d'élèves en CE1 hors ULIS  \\\n",
       "0                               16                                22   \n",
       "\n",
       "   Nombre d'élèves en CE2 hors ULIS  Nombre d'élèves en CM1 hors ULIS  \\\n",
       "0                                18                                31   \n",
       "\n",
       "   Nombre d'élèves en CM2 hors ULIS  \\\n",
       "0                                21   \n",
       "\n",
       "                                                 tri  Code Postal  \n",
       "0  78-AUVERGNE-ET-RHONE-ALPES-CLERMONT-FERRAND-AL...         3200  \n",
       "\n",
       "[1 rows x 23 columns]"
      ]
     },
     "execution_count": 3,
     "metadata": {},
     "output_type": "execute_result"
    }
   ],
   "source": [
    "effectif_prim.head(1)"
   ]
  },
  {
   "cell_type": "code",
   "execution_count": 4,
   "metadata": {},
   "outputs": [
    {
     "name": "stdout",
     "output_type": "stream",
     "text": [
      "<class 'pandas.core.frame.DataFrame'>\n",
      "RangeIndex: 194898 entries, 0 to 194897\n",
      "Data columns (total 23 columns):\n",
      " #   Column                                        Non-Null Count   Dtype \n",
      "---  ------                                        --------------   ----- \n",
      " 0   Rentrée scolaire                              194898 non-null  int64 \n",
      " 1   Région académique                             194898 non-null  object\n",
      " 2   Académie                                      194898 non-null  object\n",
      " 3   Département                                   194898 non-null  object\n",
      " 4   Commune                                       194898 non-null  object\n",
      " 5   Numéro de l'école                             194898 non-null  object\n",
      " 6   Dénomination principale                       194897 non-null  object\n",
      " 7   Patronyme                                     148531 non-null  object\n",
      " 8   Secteur                                       194898 non-null  object\n",
      " 9   REP                                           194898 non-null  int64 \n",
      " 10  REP +                                         194898 non-null  int64 \n",
      " 11  Nombre total de classes                       194898 non-null  int64 \n",
      " 12  Nombre total d'élèves                         194898 non-null  int64 \n",
      " 13  Nombre d'élèves en pré-élémentaire hors ULIS  194898 non-null  int64 \n",
      " 14  Nombre d'élèves en élémentaire hors ULIS      194898 non-null  int64 \n",
      " 15  Nombre d'élèves en ULIS                       194898 non-null  int64 \n",
      " 16  Nombre d'élèves en CP hors ULIS               194898 non-null  int64 \n",
      " 17  Nombre d'élèves en CE1 hors ULIS              194898 non-null  int64 \n",
      " 18  Nombre d'élèves en CE2 hors ULIS              194898 non-null  int64 \n",
      " 19  Nombre d'élèves en CM1 hors ULIS              194898 non-null  int64 \n",
      " 20  Nombre d'élèves en CM2 hors ULIS              194898 non-null  int64 \n",
      " 21  tri                                           194898 non-null  object\n",
      " 22  Code Postal                                   194898 non-null  int64 \n",
      "dtypes: int64(14), object(9)\n",
      "memory usage: 34.2+ MB\n"
     ]
    }
   ],
   "source": [
    "effectif_prim.info()"
   ]
  },
  {
   "cell_type": "markdown",
   "metadata": {},
   "source": [
    "Le fichier effectif contient 23 colonnes.<br>\n",
    "Il contient l'année scolaire  ainsi que de quoi identifier les établissements, dont un numero d'école qui peut servir d'identifiant.<br>\n",
    "Le fichier contient aussi les effectifs des classes du CP au CM2 ainsi que les effectifs totals des élèves en école maternelle.<br>"
   ]
  },
  {
   "cell_type": "code",
   "execution_count": 5,
   "metadata": {},
   "outputs": [
    {
     "data": {
      "text/html": [
       "<div>\n",
       "<style scoped>\n",
       "    .dataframe tbody tr th:only-of-type {\n",
       "        vertical-align: middle;\n",
       "    }\n",
       "\n",
       "    .dataframe tbody tr th {\n",
       "        vertical-align: top;\n",
       "    }\n",
       "\n",
       "    .dataframe thead th {\n",
       "        text-align: right;\n",
       "    }\n",
       "</style>\n",
       "<table border=\"1\" class=\"dataframe\">\n",
       "  <thead>\n",
       "    <tr style=\"text-align: right;\">\n",
       "      <th></th>\n",
       "      <th>Rentrée scolaire</th>\n",
       "      <th>Académie</th>\n",
       "      <th>Code du département</th>\n",
       "      <th>Département</th>\n",
       "      <th>UAI</th>\n",
       "      <th>Nom de l'établissment</th>\n",
       "      <th>Code INSEE de la commune</th>\n",
       "      <th>Nom de la commune</th>\n",
       "      <th>Secteur</th>\n",
       "      <th>Effectifs</th>\n",
       "      <th>IPS</th>\n",
       "    </tr>\n",
       "  </thead>\n",
       "  <tbody>\n",
       "    <tr>\n",
       "      <th>0</th>\n",
       "      <td>2022-2023</td>\n",
       "      <td>MONTPELLIER</td>\n",
       "      <td>066</td>\n",
       "      <td>PYRENEES-ORIENTALES</td>\n",
       "      <td>0660242E</td>\n",
       "      <td>ECOLE ELEMENTAIRE</td>\n",
       "      <td>66059</td>\n",
       "      <td>CORNEILLA DEL VERCOL</td>\n",
       "      <td>public</td>\n",
       "      <td>133.0</td>\n",
       "      <td>105.2</td>\n",
       "    </tr>\n",
       "  </tbody>\n",
       "</table>\n",
       "</div>"
      ],
      "text/plain": [
       "  Rentrée scolaire     Académie Code du département          Département  \\\n",
       "0        2022-2023  MONTPELLIER                 066  PYRENEES-ORIENTALES   \n",
       "\n",
       "        UAI Nom de l'établissment Code INSEE de la commune  \\\n",
       "0  0660242E     ECOLE ELEMENTAIRE                    66059   \n",
       "\n",
       "      Nom de la commune Secteur  Effectifs    IPS  \n",
       "0  CORNEILLA DEL VERCOL  public      133.0  105.2  "
      ]
     },
     "execution_count": 5,
     "metadata": {},
     "output_type": "execute_result"
    }
   ],
   "source": [
    "ecole_stat.head(1)"
   ]
  },
  {
   "cell_type": "code",
   "execution_count": 6,
   "metadata": {},
   "outputs": [
    {
     "name": "stdout",
     "output_type": "stream",
     "text": [
      "<class 'pandas.core.frame.DataFrame'>\n",
      "RangeIndex: 30059 entries, 0 to 30058\n",
      "Data columns (total 11 columns):\n",
      " #   Column                    Non-Null Count  Dtype  \n",
      "---  ------                    --------------  -----  \n",
      " 0   Rentrée scolaire          30059 non-null  object \n",
      " 1   Académie                  30059 non-null  object \n",
      " 2   Code du département       30059 non-null  object \n",
      " 3   Département               30059 non-null  object \n",
      " 4   UAI                       30059 non-null  object \n",
      " 5   Nom de l'établissment     30059 non-null  object \n",
      " 6   Code INSEE de la commune  30059 non-null  object \n",
      " 7   Nom de la commune         30059 non-null  object \n",
      " 8   Secteur                   30059 non-null  object \n",
      " 9   Effectifs                 30059 non-null  float64\n",
      " 10  IPS                       30059 non-null  float64\n",
      "dtypes: float64(2), object(9)\n",
      "memory usage: 2.5+ MB\n"
     ]
    }
   ],
   "source": [
    "ecole_stat.info()"
   ]
  },
  {
   "cell_type": "markdown",
   "metadata": {},
   "source": [
    "Le fichier ips contient la l'année de la rentré ainsi que les effectifs et l'Indice de Position Sociale (IPS) moyen de l école.<br>"
   ]
  },
  {
   "cell_type": "markdown",
   "metadata": {},
   "source": [
    "# premier nettoyage\n",
    "\n",
    "Standariser les catègories public privé dans la colonne secteur.<br>\n",
    "Standariser les rentrées scolaires<br>\n",
    "Voir pour réduire le nombre de colonne des fichiers.<br>\n",
    "enlever la colone tri dans effectif ecole<br>\n",
    "regrouper les données dans un seul fichier ecole.csv<br>\n"
   ]
  },
  {
   "cell_type": "code",
   "execution_count": 7,
   "metadata": {},
   "outputs": [
    {
     "data": {
      "text/plain": [
       "array([2022, 2021, 2020, 2019])"
      ]
     },
     "execution_count": 7,
     "metadata": {},
     "output_type": "execute_result"
    }
   ],
   "source": [
    "effectif_prim['Rentrée scolaire'].unique()"
   ]
  },
  {
   "cell_type": "code",
   "execution_count": 8,
   "metadata": {},
   "outputs": [],
   "source": [
    "effectif_prim.drop(effectif_prim[effectif_prim['Rentrée scolaire'] == '\\ufeffRentrée scolaire'].index,inplace=True)"
   ]
  },
  {
   "cell_type": "code",
   "execution_count": 9,
   "metadata": {},
   "outputs": [
    {
     "data": {
      "text/plain": [
       "array(['PUBLIC', 'PRIVE'], dtype=object)"
      ]
     },
     "execution_count": 9,
     "metadata": {},
     "output_type": "execute_result"
    }
   ],
   "source": [
    "effectif_prim['Secteur'].unique()"
   ]
  },
  {
   "cell_type": "code",
   "execution_count": 10,
   "metadata": {},
   "outputs": [],
   "source": [
    "# patronyme contient des Nan je les remplace par un espace\n",
    "effectif_prim['Patronyme'].fillna(\" \",inplace=True)"
   ]
  },
  {
   "cell_type": "markdown",
   "metadata": {},
   "source": [
    "je regarde s'il existe des établissement en REP et REP+"
   ]
  },
  {
   "cell_type": "code",
   "execution_count": 12,
   "metadata": {},
   "outputs": [
    {
     "data": {
      "text/html": [
       "<div>\n",
       "<style scoped>\n",
       "    .dataframe tbody tr th:only-of-type {\n",
       "        vertical-align: middle;\n",
       "    }\n",
       "\n",
       "    .dataframe tbody tr th {\n",
       "        vertical-align: top;\n",
       "    }\n",
       "\n",
       "    .dataframe thead th {\n",
       "        text-align: right;\n",
       "    }\n",
       "</style>\n",
       "<table border=\"1\" class=\"dataframe\">\n",
       "  <thead>\n",
       "    <tr style=\"text-align: right;\">\n",
       "      <th></th>\n",
       "      <th>Rentrée scolaire</th>\n",
       "      <th>Région académique</th>\n",
       "      <th>Académie</th>\n",
       "      <th>Département</th>\n",
       "      <th>Commune</th>\n",
       "      <th>Numéro de l'école</th>\n",
       "      <th>Dénomination principale</th>\n",
       "      <th>Patronyme</th>\n",
       "      <th>Secteur</th>\n",
       "      <th>REP</th>\n",
       "      <th>...</th>\n",
       "      <th>Nombre d'élèves en pré-élémentaire hors ULIS</th>\n",
       "      <th>Nombre d'élèves en élémentaire hors ULIS</th>\n",
       "      <th>Nombre d'élèves en ULIS</th>\n",
       "      <th>Nombre d'élèves en CP hors ULIS</th>\n",
       "      <th>Nombre d'élèves en CE1 hors ULIS</th>\n",
       "      <th>Nombre d'élèves en CE2 hors ULIS</th>\n",
       "      <th>Nombre d'élèves en CM1 hors ULIS</th>\n",
       "      <th>Nombre d'élèves en CM2 hors ULIS</th>\n",
       "      <th>tri</th>\n",
       "      <th>Code Postal</th>\n",
       "    </tr>\n",
       "  </thead>\n",
       "  <tbody>\n",
       "    <tr>\n",
       "      <th>159139</th>\n",
       "      <td>2019</td>\n",
       "      <td>CORSE</td>\n",
       "      <td>CORSE</td>\n",
       "      <td>HAUTE-CORSE</td>\n",
       "      <td>AGHIONE</td>\n",
       "      <td>7200296J</td>\n",
       "      <td>ECOLE ELEMENTAIRE PUBLIQUE</td>\n",
       "      <td>AGHIONE</td>\n",
       "      <td>PUBLIC</td>\n",
       "      <td>1</td>\n",
       "      <td>...</td>\n",
       "      <td>0</td>\n",
       "      <td>21</td>\n",
       "      <td>0</td>\n",
       "      <td>5</td>\n",
       "      <td>2</td>\n",
       "      <td>6</td>\n",
       "      <td>4</td>\n",
       "      <td>4</td>\n",
       "      <td>81-CORSE-CORSE-HAUTE-CORSE-AGHIONE-7200296J</td>\n",
       "      <td>20270</td>\n",
       "    </tr>\n",
       "  </tbody>\n",
       "</table>\n",
       "<p>1 rows × 23 columns</p>\n",
       "</div>"
      ],
      "text/plain": [
       "        Rentrée scolaire Région académique Académie  Département  Commune  \\\n",
       "159139              2019             CORSE    CORSE  HAUTE-CORSE  AGHIONE   \n",
       "\n",
       "       Numéro de l'école     Dénomination principale Patronyme Secteur  REP  \\\n",
       "159139          7200296J  ECOLE ELEMENTAIRE PUBLIQUE   AGHIONE  PUBLIC    1   \n",
       "\n",
       "        ...  Nombre d'élèves en pré-élémentaire hors ULIS  \\\n",
       "159139  ...                                             0   \n",
       "\n",
       "        Nombre d'élèves en élémentaire hors ULIS  Nombre d'élèves en ULIS  \\\n",
       "159139                                        21                        0   \n",
       "\n",
       "        Nombre d'élèves en CP hors ULIS  Nombre d'élèves en CE1 hors ULIS  \\\n",
       "159139                                5                                 2   \n",
       "\n",
       "        Nombre d'élèves en CE2 hors ULIS  Nombre d'élèves en CM1 hors ULIS  \\\n",
       "159139                                 6                                 4   \n",
       "\n",
       "        Nombre d'élèves en CM2 hors ULIS  \\\n",
       "159139                                 4   \n",
       "\n",
       "                                                tri  Code Postal  \n",
       "159139  81-CORSE-CORSE-HAUTE-CORSE-AGHIONE-7200296J        20270  \n",
       "\n",
       "[1 rows x 23 columns]"
      ]
     },
     "execution_count": 12,
     "metadata": {},
     "output_type": "execute_result"
    }
   ],
   "source": [
    "effectif_prim[(effectif_prim['REP'] == 1) & (effectif_prim['REP +'] == 1)]"
   ]
  },
  {
   "cell_type": "markdown",
   "metadata": {},
   "source": [
    "Un établissement est dans les 2 cotégories.<br>\n",
    "Je regarde les doublons :"
   ]
  },
  {
   "cell_type": "code",
   "execution_count": 13,
   "metadata": {},
   "outputs": [
    {
     "data": {
      "text/html": [
       "<div>\n",
       "<style scoped>\n",
       "    .dataframe tbody tr th:only-of-type {\n",
       "        vertical-align: middle;\n",
       "    }\n",
       "\n",
       "    .dataframe tbody tr th {\n",
       "        vertical-align: top;\n",
       "    }\n",
       "\n",
       "    .dataframe thead th {\n",
       "        text-align: right;\n",
       "    }\n",
       "</style>\n",
       "<table border=\"1\" class=\"dataframe\">\n",
       "  <thead>\n",
       "    <tr style=\"text-align: right;\">\n",
       "      <th></th>\n",
       "      <th>Rentrée scolaire</th>\n",
       "      <th>Région académique</th>\n",
       "      <th>Académie</th>\n",
       "      <th>Département</th>\n",
       "      <th>Commune</th>\n",
       "      <th>Numéro de l'école</th>\n",
       "      <th>Dénomination principale</th>\n",
       "      <th>Patronyme</th>\n",
       "      <th>Secteur</th>\n",
       "      <th>REP</th>\n",
       "      <th>...</th>\n",
       "      <th>Nombre d'élèves en pré-élémentaire hors ULIS</th>\n",
       "      <th>Nombre d'élèves en élémentaire hors ULIS</th>\n",
       "      <th>Nombre d'élèves en ULIS</th>\n",
       "      <th>Nombre d'élèves en CP hors ULIS</th>\n",
       "      <th>Nombre d'élèves en CE1 hors ULIS</th>\n",
       "      <th>Nombre d'élèves en CE2 hors ULIS</th>\n",
       "      <th>Nombre d'élèves en CM1 hors ULIS</th>\n",
       "      <th>Nombre d'élèves en CM2 hors ULIS</th>\n",
       "      <th>tri</th>\n",
       "      <th>Code Postal</th>\n",
       "    </tr>\n",
       "  </thead>\n",
       "  <tbody>\n",
       "  </tbody>\n",
       "</table>\n",
       "<p>0 rows × 23 columns</p>\n",
       "</div>"
      ],
      "text/plain": [
       "Empty DataFrame\n",
       "Columns: [Rentrée scolaire, Région académique, Académie, Département, Commune, Numéro de l'école, Dénomination principale, Patronyme, Secteur, REP, REP +, Nombre total de classes, Nombre total d'élèves, Nombre d'élèves en pré-élémentaire hors ULIS, Nombre d'élèves en élémentaire hors ULIS, Nombre d'élèves en ULIS, Nombre d'élèves en CP hors ULIS, Nombre d'élèves en CE1 hors ULIS, Nombre d'élèves en CE2 hors ULIS, Nombre d'élèves en CM1 hors ULIS, Nombre d'élèves en CM2 hors ULIS, tri, Code Postal]\n",
       "Index: []\n",
       "\n",
       "[0 rows x 23 columns]"
      ]
     },
     "execution_count": 13,
     "metadata": {},
     "output_type": "execute_result"
    }
   ],
   "source": [
    "effectif_prim[effectif_prim.duplicated()]"
   ]
  },
  {
   "cell_type": "code",
   "execution_count": 14,
   "metadata": {},
   "outputs": [],
   "source": [
    "effectif_prim.drop(columns='tri',inplace=True)"
   ]
  },
  {
   "cell_type": "code",
   "execution_count": 15,
   "metadata": {},
   "outputs": [],
   "source": [
    "# patronyme contient des Nan remplacer par un espace\n",
    "effectif_prim['Patronyme'].fillna(\" \",inplace=True)"
   ]
  },
  {
   "cell_type": "markdown",
   "metadata": {},
   "source": [
    "État du fichier effectif avant le merge avec le fichier ips :"
   ]
  },
  {
   "cell_type": "code",
   "execution_count": 16,
   "metadata": {},
   "outputs": [
    {
     "name": "stdout",
     "output_type": "stream",
     "text": [
      "<class 'pandas.core.frame.DataFrame'>\n",
      "RangeIndex: 194898 entries, 0 to 194897\n",
      "Data columns (total 22 columns):\n",
      " #   Column                                        Non-Null Count   Dtype \n",
      "---  ------                                        --------------   ----- \n",
      " 0   Rentrée scolaire                              194898 non-null  int64 \n",
      " 1   Région académique                             194898 non-null  object\n",
      " 2   Académie                                      194898 non-null  object\n",
      " 3   Département                                   194898 non-null  object\n",
      " 4   Commune                                       194898 non-null  object\n",
      " 5   Numéro de l'école                             194898 non-null  object\n",
      " 6   Dénomination principale                       194897 non-null  object\n",
      " 7   Patronyme                                     194898 non-null  object\n",
      " 8   Secteur                                       194898 non-null  object\n",
      " 9   REP                                           194898 non-null  int64 \n",
      " 10  REP +                                         194898 non-null  int64 \n",
      " 11  Nombre total de classes                       194898 non-null  int64 \n",
      " 12  Nombre total d'élèves                         194898 non-null  int64 \n",
      " 13  Nombre d'élèves en pré-élémentaire hors ULIS  194898 non-null  int64 \n",
      " 14  Nombre d'élèves en élémentaire hors ULIS      194898 non-null  int64 \n",
      " 15  Nombre d'élèves en ULIS                       194898 non-null  int64 \n",
      " 16  Nombre d'élèves en CP hors ULIS               194898 non-null  int64 \n",
      " 17  Nombre d'élèves en CE1 hors ULIS              194898 non-null  int64 \n",
      " 18  Nombre d'élèves en CE2 hors ULIS              194898 non-null  int64 \n",
      " 19  Nombre d'élèves en CM1 hors ULIS              194898 non-null  int64 \n",
      " 20  Nombre d'élèves en CM2 hors ULIS              194898 non-null  int64 \n",
      " 21  Code Postal                                   194898 non-null  int64 \n",
      "dtypes: int64(14), object(8)\n",
      "memory usage: 32.7+ MB\n"
     ]
    }
   ],
   "source": [
    "effectif_prim.info()"
   ]
  },
  {
   "cell_type": "code",
   "execution_count": 17,
   "metadata": {},
   "outputs": [
    {
     "data": {
      "text/plain": [
       "array(['public', 'privé sous contrat'], dtype=object)"
      ]
     },
     "execution_count": 17,
     "metadata": {},
     "output_type": "execute_result"
    }
   ],
   "source": [
    "ecole_stat['Secteur'].unique()"
   ]
  },
  {
   "cell_type": "code",
   "execution_count": 18,
   "metadata": {},
   "outputs": [],
   "source": [
    "# changement dans les data ecole_stat['secteur'] et college_stat['secteur']\n",
    "# Les valeurs doivent être PRIVE ou PUBLIC\n",
    "ecole_stat['Secteur'].replace({'public':'PUBLIC','privé sous contrat':'PRIVE'},inplace=True)"
   ]
  },
  {
   "cell_type": "code",
   "execution_count": 19,
   "metadata": {},
   "outputs": [
    {
     "data": {
      "text/plain": [
       "array(['2022-2023'], dtype=object)"
      ]
     },
     "execution_count": 19,
     "metadata": {},
     "output_type": "execute_result"
    }
   ],
   "source": [
    "ecole_stat['Rentrée scolaire'].unique()"
   ]
  },
  {
   "cell_type": "code",
   "execution_count": 20,
   "metadata": {},
   "outputs": [],
   "source": [
    "# remplacer dans les données ecoles_stat colonne rentree_scolaire 2022-2023 par 2022\n",
    "ecole_stat['Rentrée scolaire'] = ecole_stat['Rentrée scolaire'].str[:4].astype(int)"
   ]
  },
  {
   "cell_type": "code",
   "execution_count": 22,
   "metadata": {},
   "outputs": [],
   "source": [
    "fichier_ecole_elementaire = pd.merge(ecole_stat,effectif_prim,left_on=['Rentrée scolaire','UAI'],right_on=['Rentrée scolaire',\"Numéro de l'école\"],how='outer')"
   ]
  },
  {
   "cell_type": "markdown",
   "metadata": {},
   "source": [
    "Le fichier qui est généré pour les analyses : "
   ]
  },
  {
   "cell_type": "code",
   "execution_count": 23,
   "metadata": {},
   "outputs": [
    {
     "name": "stdout",
     "output_type": "stream",
     "text": [
      "<class 'pandas.core.frame.DataFrame'>\n",
      "Int64Index: 194898 entries, 0 to 194897\n",
      "Data columns (total 32 columns):\n",
      " #   Column                                        Non-Null Count   Dtype  \n",
      "---  ------                                        --------------   -----  \n",
      " 0   Rentrée scolaire                              194898 non-null  int64  \n",
      " 1   Académie_x                                    30059 non-null   object \n",
      " 2   Code du département                           30059 non-null   object \n",
      " 3   Département_x                                 30059 non-null   object \n",
      " 4   UAI                                           30059 non-null   object \n",
      " 5   Nom de l'établissment                         30059 non-null   object \n",
      " 6   Code INSEE de la commune                      30059 non-null   object \n",
      " 7   Nom de la commune                             30059 non-null   object \n",
      " 8   Secteur_x                                     30059 non-null   object \n",
      " 9   Effectifs                                     30059 non-null   float64\n",
      " 10  IPS                                           30059 non-null   float64\n",
      " 11  Région académique                             194898 non-null  object \n",
      " 12  Académie_y                                    194898 non-null  object \n",
      " 13  Département_y                                 194898 non-null  object \n",
      " 14  Commune                                       194898 non-null  object \n",
      " 15  Numéro de l'école                             194898 non-null  object \n",
      " 16  Dénomination principale                       194897 non-null  object \n",
      " 17  Patronyme                                     194898 non-null  object \n",
      " 18  Secteur_y                                     194898 non-null  object \n",
      " 19  REP                                           194898 non-null  int64  \n",
      " 20  REP +                                         194898 non-null  int64  \n",
      " 21  Nombre total de classes                       194898 non-null  int64  \n",
      " 22  Nombre total d'élèves                         194898 non-null  int64  \n",
      " 23  Nombre d'élèves en pré-élémentaire hors ULIS  194898 non-null  int64  \n",
      " 24  Nombre d'élèves en élémentaire hors ULIS      194898 non-null  int64  \n",
      " 25  Nombre d'élèves en ULIS                       194898 non-null  int64  \n",
      " 26  Nombre d'élèves en CP hors ULIS               194898 non-null  int64  \n",
      " 27  Nombre d'élèves en CE1 hors ULIS              194898 non-null  int64  \n",
      " 28  Nombre d'élèves en CE2 hors ULIS              194898 non-null  int64  \n",
      " 29  Nombre d'élèves en CM1 hors ULIS              194898 non-null  int64  \n",
      " 30  Nombre d'élèves en CM2 hors ULIS              194898 non-null  int64  \n",
      " 31  Code Postal                                   194898 non-null  int64  \n",
      "dtypes: float64(2), int64(14), object(16)\n",
      "memory usage: 49.1+ MB\n"
     ]
    }
   ],
   "source": [
    "fichier_ecole_elementaire.info()"
   ]
  },
  {
   "cell_type": "code",
   "execution_count": 24,
   "metadata": {},
   "outputs": [],
   "source": [
    "# supression colonne en double\n",
    "fichier_ecole_elementaire.drop(columns=['Académie_x','Département_x','Secteur_x'],inplace=True)\n",
    "# renomme les colonnes avec un _y\n",
    "fichier_ecole_elementaire.rename(columns={'Académie_y':'academie','Département_y':'Département','Secteur_y':'secteur'},inplace=True)"
   ]
  },
  {
   "cell_type": "code",
   "execution_count": 25,
   "metadata": {},
   "outputs": [],
   "source": [
    "# calcul des colonnes pour future analyse\n",
    "fichier_ecole_elementaire[\"Nombre moyen d'élève par classe\"] = fichier_ecole_elementaire[\"Nombre total d\\'élèves\"]/fichier_ecole_elementaire[\"Nombre total de classes\"]\n",
    "fichier_ecole_elementaire['Pourcentage ULIS'] = fichier_ecole_elementaire[\"Nombre d\\'élèves en ULIS\"]/fichier_ecole_elementaire[\"Nombre total d\\'élèves\"]*100"
   ]
  },
  {
   "cell_type": "markdown",
   "metadata": {},
   "source": [
    "Je supprimes les colonnes en doubles et je rajoute 2 colonnes pour des analyses.<br>\n",
    "État final du fichier envoyé pour analyse :"
   ]
  },
  {
   "cell_type": "code",
   "execution_count": 26,
   "metadata": {},
   "outputs": [
    {
     "name": "stdout",
     "output_type": "stream",
     "text": [
      "<class 'pandas.core.frame.DataFrame'>\n",
      "Int64Index: 194898 entries, 0 to 194897\n",
      "Data columns (total 31 columns):\n",
      " #   Column                                        Non-Null Count   Dtype  \n",
      "---  ------                                        --------------   -----  \n",
      " 0   Rentrée scolaire                              194898 non-null  int64  \n",
      " 1   Code du département                           30059 non-null   object \n",
      " 2   UAI                                           30059 non-null   object \n",
      " 3   Nom de l'établissment                         30059 non-null   object \n",
      " 4   Code INSEE de la commune                      30059 non-null   object \n",
      " 5   Nom de la commune                             30059 non-null   object \n",
      " 6   Effectifs                                     30059 non-null   float64\n",
      " 7   IPS                                           30059 non-null   float64\n",
      " 8   Région académique                             194898 non-null  object \n",
      " 9   academie                                      194898 non-null  object \n",
      " 10  Département                                   194898 non-null  object \n",
      " 11  Commune                                       194898 non-null  object \n",
      " 12  Numéro de l'école                             194898 non-null  object \n",
      " 13  Dénomination principale                       194897 non-null  object \n",
      " 14  Patronyme                                     194898 non-null  object \n",
      " 15  secteur                                       194898 non-null  object \n",
      " 16  REP                                           194898 non-null  int64  \n",
      " 17  REP +                                         194898 non-null  int64  \n",
      " 18  Nombre total de classes                       194898 non-null  int64  \n",
      " 19  Nombre total d'élèves                         194898 non-null  int64  \n",
      " 20  Nombre d'élèves en pré-élémentaire hors ULIS  194898 non-null  int64  \n",
      " 21  Nombre d'élèves en élémentaire hors ULIS      194898 non-null  int64  \n",
      " 22  Nombre d'élèves en ULIS                       194898 non-null  int64  \n",
      " 23  Nombre d'élèves en CP hors ULIS               194898 non-null  int64  \n",
      " 24  Nombre d'élèves en CE1 hors ULIS              194898 non-null  int64  \n",
      " 25  Nombre d'élèves en CE2 hors ULIS              194898 non-null  int64  \n",
      " 26  Nombre d'élèves en CM1 hors ULIS              194898 non-null  int64  \n",
      " 27  Nombre d'élèves en CM2 hors ULIS              194898 non-null  int64  \n",
      " 28  Code Postal                                   194898 non-null  int64  \n",
      " 29  Nombre moyen d'élève par classe               194898 non-null  float64\n",
      " 30  Pourcentage ULIS                              194898 non-null  float64\n",
      "dtypes: float64(4), int64(14), object(13)\n",
      "memory usage: 47.6+ MB\n"
     ]
    }
   ],
   "source": [
    "fichier_ecole_elementaire.info()"
   ]
  },
  {
   "cell_type": "code",
   "execution_count": 27,
   "metadata": {},
   "outputs": [],
   "source": [
    "fichier_ecole_elementaire.to_csv('donnee_temp/ecole.csv',index=False)"
   ]
  }
 ],
 "metadata": {
  "kernelspec": {
   "display_name": "Python 3 (ipykernel)",
   "language": "python",
   "name": "python3"
  },
  "language_info": {
   "codemirror_mode": {
    "name": "ipython",
    "version": 3
   },
   "file_extension": ".py",
   "mimetype": "text/x-python",
   "name": "python",
   "nbconvert_exporter": "python",
   "pygments_lexer": "ipython3",
   "version": "3.11.8"
  }
 },
 "nbformat": 4,
 "nbformat_minor": 4
}
