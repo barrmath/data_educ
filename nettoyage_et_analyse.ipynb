{
 "cells": [
  {
   "cell_type": "markdown",
   "metadata": {},
   "source": [
    "# Analyse de base des fichiers éducation nationnale. \n",
    "Objectif : voir les données, trouvé des pistes pour comprendre l'echec scolaire."
   ]
  },
  {
   "cell_type": "code",
   "execution_count": 1,
   "metadata": {},
   "outputs": [],
   "source": [
    "# import bibliothéques d'analyse de python\n",
    "# voir pour utiliser black dans les cellules python pour améliorer la qualité du code\n",
    "import pandas as pd\n",
    "import matplotlib.pyplot as plt\n",
    "from matplotlib.ticker import MaxNLocator\n",
    "import seaborn as sns\n"
   ]
  },
  {
   "cell_type": "code",
   "execution_count": 2,
   "metadata": {},
   "outputs": [],
   "source": [
    "# import des données en RAM avec pandas\n",
    "effectif_prim = pd.read_csv(\"donnee/fr-en-ecoles-effectifs-nb_classes.csv\",sep=\";\")\n",
    "effectif_colleges = pd.read_csv(\"donnee/fr-en-college-effectifs-niveau-sexe-lv.csv\",sep=\";\")\n",
    "collegue_stat = pd.read_csv(\"donnee/fr-en-ips-colleges-ap2022.csv\",sep=\";\")\n",
    "ecole_stat = pd.read_csv(\"donnee/fr-en-ips-ecoles-ap2022.csv\",sep=\";\")"
   ]
  },
  {
   "cell_type": "markdown",
   "metadata": {},
   "source": [
    "## Affichage des entêtes des données\n",
    "Pour les écoles primaires :"
   ]
  },
  {
   "cell_type": "code",
   "execution_count": 3,
   "metadata": {},
   "outputs": [
    {
     "data": {
      "text/html": [
       "<div>\n",
       "<style scoped>\n",
       "    .dataframe tbody tr th:only-of-type {\n",
       "        vertical-align: middle;\n",
       "    }\n",
       "\n",
       "    .dataframe tbody tr th {\n",
       "        vertical-align: top;\n",
       "    }\n",
       "\n",
       "    .dataframe thead th {\n",
       "        text-align: right;\n",
       "    }\n",
       "</style>\n",
       "<table border=\"1\" class=\"dataframe\">\n",
       "  <thead>\n",
       "    <tr style=\"text-align: right;\">\n",
       "      <th></th>\n",
       "      <th>rentree_scolaire</th>\n",
       "      <th>region_academique</th>\n",
       "      <th>academie</th>\n",
       "      <th>departement</th>\n",
       "      <th>commune</th>\n",
       "      <th>numero_ecole</th>\n",
       "      <th>denomination_principale</th>\n",
       "      <th>patronyme</th>\n",
       "      <th>secteur</th>\n",
       "      <th>rep</th>\n",
       "      <th>...</th>\n",
       "      <th>nombre_eleves_preelementaire_hors_ulis</th>\n",
       "      <th>nombre_eleves_elementaire_hors_ulis</th>\n",
       "      <th>nombre_eleves_ulis</th>\n",
       "      <th>nombre_eleves_cp_hors_ulis</th>\n",
       "      <th>nombre_eleves_ce1_hors_ulis</th>\n",
       "      <th>nombre_eleves_ce2_hors_ulis</th>\n",
       "      <th>nombre_eleves_cm1_hors_ulis</th>\n",
       "      <th>nombre_eleves_cm2_hors_ulis</th>\n",
       "      <th>tri</th>\n",
       "      <th>code_postal</th>\n",
       "    </tr>\n",
       "  </thead>\n",
       "  <tbody>\n",
       "    <tr>\n",
       "      <th>0</th>\n",
       "      <td>2022</td>\n",
       "      <td>AUVERGNE-ET-RHONE-ALPES</td>\n",
       "      <td>CLERMONT-FERRAND</td>\n",
       "      <td>ALLIER</td>\n",
       "      <td>ABREST</td>\n",
       "      <td>0030701W</td>\n",
       "      <td>ECOLE PRIMAIRE PUBLIQUE</td>\n",
       "      <td>NaN</td>\n",
       "      <td>PUBLIC</td>\n",
       "      <td>0</td>\n",
       "      <td>...</td>\n",
       "      <td>56</td>\n",
       "      <td>108</td>\n",
       "      <td>0</td>\n",
       "      <td>16</td>\n",
       "      <td>22</td>\n",
       "      <td>18</td>\n",
       "      <td>31</td>\n",
       "      <td>21</td>\n",
       "      <td>78-AUVERGNE-ET-RHONE-ALPES-CLERMONT-FERRAND-AL...</td>\n",
       "      <td>3200</td>\n",
       "    </tr>\n",
       "  </tbody>\n",
       "</table>\n",
       "<p>1 rows × 23 columns</p>\n",
       "</div>"
      ],
      "text/plain": [
       "   rentree_scolaire        region_academique          academie departement  \\\n",
       "0              2022  AUVERGNE-ET-RHONE-ALPES  CLERMONT-FERRAND      ALLIER   \n",
       "\n",
       "  commune numero_ecole  denomination_principale patronyme secteur  rep  ...  \\\n",
       "0  ABREST     0030701W  ECOLE PRIMAIRE PUBLIQUE       NaN  PUBLIC    0  ...   \n",
       "\n",
       "   nombre_eleves_preelementaire_hors_ulis  \\\n",
       "0                                      56   \n",
       "\n",
       "   nombre_eleves_elementaire_hors_ulis  nombre_eleves_ulis  \\\n",
       "0                                  108                   0   \n",
       "\n",
       "   nombre_eleves_cp_hors_ulis  nombre_eleves_ce1_hors_ulis  \\\n",
       "0                          16                           22   \n",
       "\n",
       "   nombre_eleves_ce2_hors_ulis  nombre_eleves_cm1_hors_ulis  \\\n",
       "0                           18                           31   \n",
       "\n",
       "   nombre_eleves_cm2_hors_ulis  \\\n",
       "0                           21   \n",
       "\n",
       "                                                 tri  code_postal  \n",
       "0  78-AUVERGNE-ET-RHONE-ALPES-CLERMONT-FERRAND-AL...         3200  \n",
       "\n",
       "[1 rows x 23 columns]"
      ]
     },
     "execution_count": 3,
     "metadata": {},
     "output_type": "execute_result"
    }
   ],
   "source": [
    "effectif_prim.head(1)"
   ]
  },
  {
   "cell_type": "code",
   "execution_count": 4,
   "metadata": {},
   "outputs": [
    {
     "data": {
      "text/html": [
       "<div>\n",
       "<style scoped>\n",
       "    .dataframe tbody tr th:only-of-type {\n",
       "        vertical-align: middle;\n",
       "    }\n",
       "\n",
       "    .dataframe tbody tr th {\n",
       "        vertical-align: top;\n",
       "    }\n",
       "\n",
       "    .dataframe thead th {\n",
       "        text-align: right;\n",
       "    }\n",
       "</style>\n",
       "<table border=\"1\" class=\"dataframe\">\n",
       "  <thead>\n",
       "    <tr style=\"text-align: right;\">\n",
       "      <th></th>\n",
       "      <th>rentree_scolaire</th>\n",
       "      <th>academie</th>\n",
       "      <th>code_du_departement</th>\n",
       "      <th>departement</th>\n",
       "      <th>uai</th>\n",
       "      <th>nom_de_l_etablissment</th>\n",
       "      <th>code_insee_de_la_commune</th>\n",
       "      <th>nom_de_la_commune</th>\n",
       "      <th>secteur</th>\n",
       "      <th>effectifs</th>\n",
       "      <th>ips</th>\n",
       "    </tr>\n",
       "  </thead>\n",
       "  <tbody>\n",
       "    <tr>\n",
       "      <th>0</th>\n",
       "      <td>2022-2023</td>\n",
       "      <td>LYON</td>\n",
       "      <td>069</td>\n",
       "      <td>RHONE</td>\n",
       "      <td>0691092M</td>\n",
       "      <td>ECOLE PRIMAIRE</td>\n",
       "      <td>69074</td>\n",
       "      <td>DENICE</td>\n",
       "      <td>public</td>\n",
       "      <td>85.0</td>\n",
       "      <td>119.0</td>\n",
       "    </tr>\n",
       "  </tbody>\n",
       "</table>\n",
       "</div>"
      ],
      "text/plain": [
       "  rentree_scolaire academie code_du_departement departement       uai  \\\n",
       "0        2022-2023     LYON                 069       RHONE  0691092M   \n",
       "\n",
       "  nom_de_l_etablissment code_insee_de_la_commune nom_de_la_commune secteur  \\\n",
       "0        ECOLE PRIMAIRE                    69074            DENICE  public   \n",
       "\n",
       "   effectifs    ips  \n",
       "0       85.0  119.0  "
      ]
     },
     "execution_count": 4,
     "metadata": {},
     "output_type": "execute_result"
    }
   ],
   "source": [
    "ecole_stat.head(1)"
   ]
  },
  {
   "cell_type": "markdown",
   "metadata": {},
   "source": [
    "Pour les collèges :"
   ]
  },
  {
   "cell_type": "code",
   "execution_count": 5,
   "metadata": {},
   "outputs": [
    {
     "data": {
      "text/html": [
       "<div>\n",
       "<style scoped>\n",
       "    .dataframe tbody tr th:only-of-type {\n",
       "        vertical-align: middle;\n",
       "    }\n",
       "\n",
       "    .dataframe tbody tr th {\n",
       "        vertical-align: top;\n",
       "    }\n",
       "\n",
       "    .dataframe thead th {\n",
       "        text-align: right;\n",
       "    }\n",
       "</style>\n",
       "<table border=\"1\" class=\"dataframe\">\n",
       "  <thead>\n",
       "    <tr style=\"text-align: right;\">\n",
       "      <th></th>\n",
       "      <th>rentree_scolaire</th>\n",
       "      <th>region_academique</th>\n",
       "      <th>academie</th>\n",
       "      <th>departement</th>\n",
       "      <th>commune</th>\n",
       "      <th>numero_college</th>\n",
       "      <th>denomination_principale</th>\n",
       "      <th>patronyme</th>\n",
       "      <th>secteur</th>\n",
       "      <th>rep</th>\n",
       "      <th>...</th>\n",
       "      <th>3eme_lv1_allemand</th>\n",
       "      <th>3eme_lv1_anglais</th>\n",
       "      <th>3eme_lv1_espagnol</th>\n",
       "      <th>3eme_lv1_autres</th>\n",
       "      <th>3eme_lv2_allemand</th>\n",
       "      <th>3eme_lv2_anglais</th>\n",
       "      <th>3eme_lv2_espagnol</th>\n",
       "      <th>3eme_lv2_italien</th>\n",
       "      <th>3eme_lv2_autres</th>\n",
       "      <th>code_postal</th>\n",
       "    </tr>\n",
       "  </thead>\n",
       "  <tbody>\n",
       "    <tr>\n",
       "      <th>0</th>\n",
       "      <td>2019</td>\n",
       "      <td>AUVERGNE-ET-RHONE-ALPES</td>\n",
       "      <td>LYON</td>\n",
       "      <td>RHONE</td>\n",
       "      <td>VILLEURBANNE</td>\n",
       "      <td>0691664J</td>\n",
       "      <td>COLLEGE</td>\n",
       "      <td>JEAN JAURES</td>\n",
       "      <td>PUBLIC</td>\n",
       "      <td>1</td>\n",
       "      <td>...</td>\n",
       "      <td>0</td>\n",
       "      <td>175</td>\n",
       "      <td>0</td>\n",
       "      <td>0</td>\n",
       "      <td>26</td>\n",
       "      <td>0</td>\n",
       "      <td>131</td>\n",
       "      <td>14</td>\n",
       "      <td>0</td>\n",
       "      <td>69100.0</td>\n",
       "    </tr>\n",
       "  </tbody>\n",
       "</table>\n",
       "<p>1 rows × 76 columns</p>\n",
       "</div>"
      ],
      "text/plain": [
       "   rentree_scolaire        region_academique academie departement  \\\n",
       "0              2019  AUVERGNE-ET-RHONE-ALPES     LYON       RHONE   \n",
       "\n",
       "        commune numero_college denomination_principale    patronyme secteur  \\\n",
       "0  VILLEURBANNE       0691664J                 COLLEGE  JEAN JAURES  PUBLIC   \n",
       "\n",
       "   rep  ...  3eme_lv1_allemand  3eme_lv1_anglais  3eme_lv1_espagnol  \\\n",
       "0    1  ...                  0               175                  0   \n",
       "\n",
       "   3eme_lv1_autres  3eme_lv2_allemand  3eme_lv2_anglais  3eme_lv2_espagnol  \\\n",
       "0                0                 26                 0                131   \n",
       "\n",
       "   3eme_lv2_italien  3eme_lv2_autres  code_postal  \n",
       "0                14                0      69100.0  \n",
       "\n",
       "[1 rows x 76 columns]"
      ]
     },
     "execution_count": 5,
     "metadata": {},
     "output_type": "execute_result"
    }
   ],
   "source": [
    "effectif_colleges.head(1)"
   ]
  },
  {
   "cell_type": "code",
   "execution_count": 6,
   "metadata": {},
   "outputs": [
    {
     "data": {
      "text/html": [
       "<div>\n",
       "<style scoped>\n",
       "    .dataframe tbody tr th:only-of-type {\n",
       "        vertical-align: middle;\n",
       "    }\n",
       "\n",
       "    .dataframe tbody tr th {\n",
       "        vertical-align: top;\n",
       "    }\n",
       "\n",
       "    .dataframe thead th {\n",
       "        text-align: right;\n",
       "    }\n",
       "</style>\n",
       "<table border=\"1\" class=\"dataframe\">\n",
       "  <thead>\n",
       "    <tr style=\"text-align: right;\">\n",
       "      <th></th>\n",
       "      <th>rentree_scolaire</th>\n",
       "      <th>academie</th>\n",
       "      <th>code_du_departement</th>\n",
       "      <th>departement</th>\n",
       "      <th>uai</th>\n",
       "      <th>nom_de_l_etablissment</th>\n",
       "      <th>code_insee_de_la_commune</th>\n",
       "      <th>nom_de_la_commune</th>\n",
       "      <th>secteur</th>\n",
       "      <th>effectifs</th>\n",
       "      <th>ips</th>\n",
       "      <th>ecart_type_de_l_ips</th>\n",
       "    </tr>\n",
       "  </thead>\n",
       "  <tbody>\n",
       "    <tr>\n",
       "      <th>0</th>\n",
       "      <td>2022-2023</td>\n",
       "      <td>LYON</td>\n",
       "      <td>001</td>\n",
       "      <td>AIN</td>\n",
       "      <td>0010002X</td>\n",
       "      <td>COLLEGE SAINT EXUPERY</td>\n",
       "      <td>01004</td>\n",
       "      <td>AMBERIEU EN BUGEY</td>\n",
       "      <td>public</td>\n",
       "      <td>686.0</td>\n",
       "      <td>95.3</td>\n",
       "      <td>34.2</td>\n",
       "    </tr>\n",
       "  </tbody>\n",
       "</table>\n",
       "</div>"
      ],
      "text/plain": [
       "  rentree_scolaire academie code_du_departement departement       uai  \\\n",
       "0        2022-2023     LYON                 001         AIN  0010002X   \n",
       "\n",
       "   nom_de_l_etablissment code_insee_de_la_commune  nom_de_la_commune secteur  \\\n",
       "0  COLLEGE SAINT EXUPERY                    01004  AMBERIEU EN BUGEY  public   \n",
       "\n",
       "   effectifs   ips  ecart_type_de_l_ips  \n",
       "0      686.0  95.3                 34.2  "
      ]
     },
     "execution_count": 6,
     "metadata": {},
     "output_type": "execute_result"
    }
   ],
   "source": [
    "collegue_stat.head(1)"
   ]
  },
  {
   "cell_type": "markdown",
   "metadata": {},
   "source": [
    "# premier nettoyage\n",
    "\n",
    "Standariser les catègories public privé dans la colonne secteur.<br>\n",
    "Standariser les rentrées scolaires<br>\n",
    "Voir pour réduire le nombre de colonne des fichiers.<br>\n",
    "colone tri dans effectif ecole<br>\n",
    "college voir pour aggreger les classes. (langue séparé, est ce utile pour stats generale ?)<br>\n"
   ]
  },
  {
   "cell_type": "code",
   "execution_count": 7,
   "metadata": {},
   "outputs": [
    {
     "data": {
      "text/plain": [
       "array(['public', 'privé sous contrat'], dtype=object)"
      ]
     },
     "execution_count": 7,
     "metadata": {},
     "output_type": "execute_result"
    }
   ],
   "source": [
    "collegue_stat['secteur'].unique()"
   ]
  },
  {
   "cell_type": "code",
   "execution_count": 8,
   "metadata": {},
   "outputs": [
    {
     "data": {
      "text/plain": [
       "array(['PUBLIC', 'PRIVE'], dtype=object)"
      ]
     },
     "execution_count": 8,
     "metadata": {},
     "output_type": "execute_result"
    }
   ],
   "source": [
    "effectif_colleges['secteur'].unique()"
   ]
  },
  {
   "cell_type": "code",
   "execution_count": 9,
   "metadata": {},
   "outputs": [
    {
     "data": {
      "text/plain": [
       "array(['public', 'privé sous contrat'], dtype=object)"
      ]
     },
     "execution_count": 9,
     "metadata": {},
     "output_type": "execute_result"
    }
   ],
   "source": [
    "ecole_stat['secteur'].unique()"
   ]
  },
  {
   "cell_type": "code",
   "execution_count": 10,
   "metadata": {},
   "outputs": [
    {
     "data": {
      "text/plain": [
       "array(['PUBLIC', 'PRIVE'], dtype=object)"
      ]
     },
     "execution_count": 10,
     "metadata": {},
     "output_type": "execute_result"
    }
   ],
   "source": [
    "effectif_prim['secteur'].unique()"
   ]
  },
  {
   "cell_type": "code",
   "execution_count": 11,
   "metadata": {},
   "outputs": [],
   "source": [
    "# changement dans les data ecole_stat['secteur'] et college_stat['secteur']\n",
    "# Les valeurs doivent être PRIVE ou PUBLIC\n",
    "collegue_stat['secteur'].replace({'public':'PUBLIC','privé sous contrat':'PRIVE'},inplace=True)\n",
    "ecole_stat['secteur'].replace({'public':'PUBLIC','privé sous contrat':'PRIVE'},inplace=True)"
   ]
  },
  {
   "cell_type": "code",
   "execution_count": 12,
   "metadata": {},
   "outputs": [
    {
     "data": {
      "text/plain": [
       "array([2019, 2020, 2022, 2021])"
      ]
     },
     "execution_count": 12,
     "metadata": {},
     "output_type": "execute_result"
    }
   ],
   "source": [
    "effectif_colleges['rentree_scolaire'].unique()"
   ]
  },
  {
   "cell_type": "code",
   "execution_count": 13,
   "metadata": {},
   "outputs": [
    {
     "data": {
      "text/plain": [
       "array(['2022-2023'], dtype=object)"
      ]
     },
     "execution_count": 13,
     "metadata": {},
     "output_type": "execute_result"
    }
   ],
   "source": [
    "collegue_stat['rentree_scolaire'].unique()"
   ]
  },
  {
   "cell_type": "code",
   "execution_count": 14,
   "metadata": {},
   "outputs": [
    {
     "data": {
      "text/plain": [
       "array([2022, 2021, 2020, 2019])"
      ]
     },
     "execution_count": 14,
     "metadata": {},
     "output_type": "execute_result"
    }
   ],
   "source": [
    "effectif_prim['rentree_scolaire'].unique()"
   ]
  },
  {
   "cell_type": "code",
   "execution_count": 15,
   "metadata": {},
   "outputs": [
    {
     "data": {
      "text/plain": [
       "array(['2022-2023'], dtype=object)"
      ]
     },
     "execution_count": 15,
     "metadata": {},
     "output_type": "execute_result"
    }
   ],
   "source": [
    "ecole_stat['rentree_scolaire'].unique()"
   ]
  },
  {
   "cell_type": "code",
   "execution_count": 16,
   "metadata": {},
   "outputs": [],
   "source": [
    "# remplacer dans les données ecoles_stat et college_stat colonne rentree_scoalire 2022-2023 par 2022\n",
    "collegue_stat['rentree_scolaire'].replace({'2022-2023':2022},inplace=True)\n",
    "ecole_stat['rentree_scolaire'].replace({'2022-2023':2022},inplace=True)"
   ]
  },
  {
   "cell_type": "code",
   "execution_count": 17,
   "metadata": {},
   "outputs": [],
   "source": [
    "effectif_prim.drop(columns='tri',inplace=True)"
   ]
  },
  {
   "cell_type": "code",
   "execution_count": 18,
   "metadata": {},
   "outputs": [],
   "source": [
    "# patronyme contient des Nan remplcer par un espaces\n",
    "effectif_prim['patronyme'].fillna(\" \",inplace=True)"
   ]
  },
  {
   "cell_type": "code",
   "execution_count": 19,
   "metadata": {},
   "outputs": [
    {
     "name": "stdout",
     "output_type": "stream",
     "text": [
      "<class 'pandas.core.frame.DataFrame'>\n",
      "RangeIndex: 194898 entries, 0 to 194897\n",
      "Data columns (total 22 columns):\n",
      " #   Column                                  Non-Null Count   Dtype \n",
      "---  ------                                  --------------   ----- \n",
      " 0   rentree_scolaire                        194898 non-null  int64 \n",
      " 1   region_academique                       194898 non-null  object\n",
      " 2   academie                                194898 non-null  object\n",
      " 3   departement                             194898 non-null  object\n",
      " 4   commune                                 194898 non-null  object\n",
      " 5   numero_ecole                            194898 non-null  object\n",
      " 6   denomination_principale                 194897 non-null  object\n",
      " 7   patronyme                               194898 non-null  object\n",
      " 8   secteur                                 194898 non-null  object\n",
      " 9   rep                                     194898 non-null  int64 \n",
      " 10  rep_plus                                194898 non-null  int64 \n",
      " 11  nombre_total_classes                    194898 non-null  int64 \n",
      " 12  nombre_total_eleves                     194898 non-null  int64 \n",
      " 13  nombre_eleves_preelementaire_hors_ulis  194898 non-null  int64 \n",
      " 14  nombre_eleves_elementaire_hors_ulis     194898 non-null  int64 \n",
      " 15  nombre_eleves_ulis                      194898 non-null  int64 \n",
      " 16  nombre_eleves_cp_hors_ulis              194898 non-null  int64 \n",
      " 17  nombre_eleves_ce1_hors_ulis             194898 non-null  int64 \n",
      " 18  nombre_eleves_ce2_hors_ulis             194898 non-null  int64 \n",
      " 19  nombre_eleves_cm1_hors_ulis             194898 non-null  int64 \n",
      " 20  nombre_eleves_cm2_hors_ulis             194898 non-null  int64 \n",
      " 21  code_postal                             194898 non-null  int64 \n",
      "dtypes: int64(14), object(8)\n",
      "memory usage: 32.7+ MB\n"
     ]
    }
   ],
   "source": [
    "effectif_prim.info()"
   ]
  },
  {
   "cell_type": "code",
   "execution_count": 20,
   "metadata": {},
   "outputs": [
    {
     "data": {
      "text/html": [
       "<div>\n",
       "<style scoped>\n",
       "    .dataframe tbody tr th:only-of-type {\n",
       "        vertical-align: middle;\n",
       "    }\n",
       "\n",
       "    .dataframe tbody tr th {\n",
       "        vertical-align: top;\n",
       "    }\n",
       "\n",
       "    .dataframe thead th {\n",
       "        text-align: right;\n",
       "    }\n",
       "</style>\n",
       "<table border=\"1\" class=\"dataframe\">\n",
       "  <thead>\n",
       "    <tr style=\"text-align: right;\">\n",
       "      <th></th>\n",
       "      <th>rentree_scolaire</th>\n",
       "      <th>region_academique</th>\n",
       "      <th>academie</th>\n",
       "      <th>departement</th>\n",
       "      <th>commune</th>\n",
       "      <th>numero_ecole</th>\n",
       "      <th>denomination_principale</th>\n",
       "      <th>patronyme</th>\n",
       "      <th>secteur</th>\n",
       "      <th>rep</th>\n",
       "      <th>...</th>\n",
       "      <th>nombre_total_eleves</th>\n",
       "      <th>nombre_eleves_preelementaire_hors_ulis</th>\n",
       "      <th>nombre_eleves_elementaire_hors_ulis</th>\n",
       "      <th>nombre_eleves_ulis</th>\n",
       "      <th>nombre_eleves_cp_hors_ulis</th>\n",
       "      <th>nombre_eleves_ce1_hors_ulis</th>\n",
       "      <th>nombre_eleves_ce2_hors_ulis</th>\n",
       "      <th>nombre_eleves_cm1_hors_ulis</th>\n",
       "      <th>nombre_eleves_cm2_hors_ulis</th>\n",
       "      <th>code_postal</th>\n",
       "    </tr>\n",
       "  </thead>\n",
       "  <tbody>\n",
       "    <tr>\n",
       "      <th>5168</th>\n",
       "      <td>2022</td>\n",
       "      <td>AUVERGNE-ET-RHONE-ALPES</td>\n",
       "      <td>LYON</td>\n",
       "      <td>RHONE</td>\n",
       "      <td>DENICE</td>\n",
       "      <td>0691092M</td>\n",
       "      <td>ECOLE PRIMAIRE PUBLIQUE</td>\n",
       "      <td></td>\n",
       "      <td>PUBLIC</td>\n",
       "      <td>0</td>\n",
       "      <td>...</td>\n",
       "      <td>104</td>\n",
       "      <td>40</td>\n",
       "      <td>64</td>\n",
       "      <td>0</td>\n",
       "      <td>17</td>\n",
       "      <td>15</td>\n",
       "      <td>9</td>\n",
       "      <td>9</td>\n",
       "      <td>14</td>\n",
       "      <td>69640</td>\n",
       "    </tr>\n",
       "    <tr>\n",
       "      <th>53422</th>\n",
       "      <td>2021</td>\n",
       "      <td>AUVERGNE-ET-RHONE-ALPES</td>\n",
       "      <td>LYON</td>\n",
       "      <td>RHONE</td>\n",
       "      <td>DENICE</td>\n",
       "      <td>0691092M</td>\n",
       "      <td>ECOLE PRIMAIRE PUBLIQUE</td>\n",
       "      <td></td>\n",
       "      <td>PUBLIC</td>\n",
       "      <td>0</td>\n",
       "      <td>...</td>\n",
       "      <td>113</td>\n",
       "      <td>50</td>\n",
       "      <td>63</td>\n",
       "      <td>0</td>\n",
       "      <td>13</td>\n",
       "      <td>9</td>\n",
       "      <td>9</td>\n",
       "      <td>14</td>\n",
       "      <td>18</td>\n",
       "      <td>69640</td>\n",
       "    </tr>\n",
       "    <tr>\n",
       "      <th>102029</th>\n",
       "      <td>2020</td>\n",
       "      <td>AUVERGNE-ET-RHONE-ALPES</td>\n",
       "      <td>LYON</td>\n",
       "      <td>RHONE</td>\n",
       "      <td>DENICE</td>\n",
       "      <td>0691092M</td>\n",
       "      <td>ECOLE PRIMAIRE PUBLIQUE</td>\n",
       "      <td></td>\n",
       "      <td>PUBLIC</td>\n",
       "      <td>0</td>\n",
       "      <td>...</td>\n",
       "      <td>107</td>\n",
       "      <td>45</td>\n",
       "      <td>62</td>\n",
       "      <td>0</td>\n",
       "      <td>8</td>\n",
       "      <td>7</td>\n",
       "      <td>14</td>\n",
       "      <td>17</td>\n",
       "      <td>16</td>\n",
       "      <td>69640</td>\n",
       "    </tr>\n",
       "    <tr>\n",
       "      <th>150994</th>\n",
       "      <td>2019</td>\n",
       "      <td>AUVERGNE-ET-RHONE-ALPES</td>\n",
       "      <td>LYON</td>\n",
       "      <td>RHONE</td>\n",
       "      <td>DENICE</td>\n",
       "      <td>0691092M</td>\n",
       "      <td>ECOLE PRIMAIRE PUBLIQUE</td>\n",
       "      <td></td>\n",
       "      <td>PUBLIC</td>\n",
       "      <td>0</td>\n",
       "      <td>...</td>\n",
       "      <td>110</td>\n",
       "      <td>37</td>\n",
       "      <td>73</td>\n",
       "      <td>0</td>\n",
       "      <td>8</td>\n",
       "      <td>14</td>\n",
       "      <td>18</td>\n",
       "      <td>17</td>\n",
       "      <td>16</td>\n",
       "      <td>69640</td>\n",
       "    </tr>\n",
       "  </tbody>\n",
       "</table>\n",
       "<p>4 rows × 22 columns</p>\n",
       "</div>"
      ],
      "text/plain": [
       "        rentree_scolaire        region_academique academie departement  \\\n",
       "5168                2022  AUVERGNE-ET-RHONE-ALPES     LYON       RHONE   \n",
       "53422               2021  AUVERGNE-ET-RHONE-ALPES     LYON       RHONE   \n",
       "102029              2020  AUVERGNE-ET-RHONE-ALPES     LYON       RHONE   \n",
       "150994              2019  AUVERGNE-ET-RHONE-ALPES     LYON       RHONE   \n",
       "\n",
       "       commune numero_ecole  denomination_principale patronyme secteur  rep  \\\n",
       "5168    DENICE     0691092M  ECOLE PRIMAIRE PUBLIQUE            PUBLIC    0   \n",
       "53422   DENICE     0691092M  ECOLE PRIMAIRE PUBLIQUE            PUBLIC    0   \n",
       "102029  DENICE     0691092M  ECOLE PRIMAIRE PUBLIQUE            PUBLIC    0   \n",
       "150994  DENICE     0691092M  ECOLE PRIMAIRE PUBLIQUE            PUBLIC    0   \n",
       "\n",
       "        ...  nombre_total_eleves  nombre_eleves_preelementaire_hors_ulis  \\\n",
       "5168    ...                  104                                      40   \n",
       "53422   ...                  113                                      50   \n",
       "102029  ...                  107                                      45   \n",
       "150994  ...                  110                                      37   \n",
       "\n",
       "        nombre_eleves_elementaire_hors_ulis  nombre_eleves_ulis  \\\n",
       "5168                                     64                   0   \n",
       "53422                                    63                   0   \n",
       "102029                                   62                   0   \n",
       "150994                                   73                   0   \n",
       "\n",
       "        nombre_eleves_cp_hors_ulis  nombre_eleves_ce1_hors_ulis  \\\n",
       "5168                            17                           15   \n",
       "53422                           13                            9   \n",
       "102029                           8                            7   \n",
       "150994                           8                           14   \n",
       "\n",
       "        nombre_eleves_ce2_hors_ulis  nombre_eleves_cm1_hors_ulis  \\\n",
       "5168                              9                            9   \n",
       "53422                             9                           14   \n",
       "102029                           14                           17   \n",
       "150994                           18                           17   \n",
       "\n",
       "        nombre_eleves_cm2_hors_ulis  code_postal  \n",
       "5168                             14        69640  \n",
       "53422                            18        69640  \n",
       "102029                           16        69640  \n",
       "150994                           16        69640  \n",
       "\n",
       "[4 rows x 22 columns]"
      ]
     },
     "execution_count": 20,
     "metadata": {},
     "output_type": "execute_result"
    }
   ],
   "source": [
    "effectif_prim[effectif_prim['numero_ecole'] == '0691092M']"
   ]
  },
  {
   "cell_type": "code",
   "execution_count": 21,
   "metadata": {},
   "outputs": [],
   "source": [
    "fichier_ecole_elementaire = pd.merge(ecole_stat,effectif_prim,left_on=['rentree_scolaire','uai'],right_on=['rentree_scolaire','numero_ecole'],how='outer')"
   ]
  },
  {
   "cell_type": "code",
   "execution_count": 22,
   "metadata": {},
   "outputs": [
    {
     "name": "stdout",
     "output_type": "stream",
     "text": [
      "<class 'pandas.core.frame.DataFrame'>\n",
      "Int64Index: 194898 entries, 0 to 194897\n",
      "Data columns (total 32 columns):\n",
      " #   Column                                  Non-Null Count   Dtype  \n",
      "---  ------                                  --------------   -----  \n",
      " 0   rentree_scolaire                        194898 non-null  int64  \n",
      " 1   academie_x                              30059 non-null   object \n",
      " 2   code_du_departement                     30059 non-null   object \n",
      " 3   departement_x                           30059 non-null   object \n",
      " 4   uai                                     30059 non-null   object \n",
      " 5   nom_de_l_etablissment                   30059 non-null   object \n",
      " 6   code_insee_de_la_commune                30059 non-null   object \n",
      " 7   nom_de_la_commune                       30059 non-null   object \n",
      " 8   secteur_x                               30059 non-null   object \n",
      " 9   effectifs                               30059 non-null   float64\n",
      " 10  ips                                     30059 non-null   float64\n",
      " 11  region_academique                       194898 non-null  object \n",
      " 12  academie_y                              194898 non-null  object \n",
      " 13  departement_y                           194898 non-null  object \n",
      " 14  commune                                 194898 non-null  object \n",
      " 15  numero_ecole                            194898 non-null  object \n",
      " 16  denomination_principale                 194897 non-null  object \n",
      " 17  patronyme                               194898 non-null  object \n",
      " 18  secteur_y                               194898 non-null  object \n",
      " 19  rep                                     194898 non-null  int64  \n",
      " 20  rep_plus                                194898 non-null  int64  \n",
      " 21  nombre_total_classes                    194898 non-null  int64  \n",
      " 22  nombre_total_eleves                     194898 non-null  int64  \n",
      " 23  nombre_eleves_preelementaire_hors_ulis  194898 non-null  int64  \n",
      " 24  nombre_eleves_elementaire_hors_ulis     194898 non-null  int64  \n",
      " 25  nombre_eleves_ulis                      194898 non-null  int64  \n",
      " 26  nombre_eleves_cp_hors_ulis              194898 non-null  int64  \n",
      " 27  nombre_eleves_ce1_hors_ulis             194898 non-null  int64  \n",
      " 28  nombre_eleves_ce2_hors_ulis             194898 non-null  int64  \n",
      " 29  nombre_eleves_cm1_hors_ulis             194898 non-null  int64  \n",
      " 30  nombre_eleves_cm2_hors_ulis             194898 non-null  int64  \n",
      " 31  code_postal                             194898 non-null  int64  \n",
      "dtypes: float64(2), int64(14), object(16)\n",
      "memory usage: 49.1+ MB\n"
     ]
    }
   ],
   "source": [
    "fichier_ecole_elementaire.info()"
   ]
  },
  {
   "cell_type": "code",
   "execution_count": 23,
   "metadata": {},
   "outputs": [],
   "source": [
    "# supression colonne en double\n",
    "fichier_ecole_elementaire.drop(columns=['academie_y','departement_y','secteur_y'],inplace=True)\n",
    "# renomme les colonnes avec un _x\n",
    "fichier_ecole_elementaire.rename(columns={'academie_x':'academie','departement_x':'departement','secteur_x':'secteur'},inplace=True)"
   ]
  },
  {
   "cell_type": "code",
   "execution_count": 24,
   "metadata": {},
   "outputs": [],
   "source": [
    "# création fichier college\n",
    "fichier_college = pd.merge(effectif_colleges,collegue_stat,left_on=['rentree_scolaire','numero_college'],right_on=['rentree_scolaire','uai'],how='outer')"
   ]
  },
  {
   "cell_type": "code",
   "execution_count": 25,
   "metadata": {},
   "outputs": [
    {
     "name": "stdout",
     "output_type": "stream",
     "text": [
      "<class 'pandas.core.frame.DataFrame'>\n",
      "Int64Index: 32982 entries, 0 to 32981\n",
      "Data columns (total 87 columns):\n",
      " #   Column                                    Non-Null Count  Dtype  \n",
      "---  ------                                    --------------  -----  \n",
      " 0   rentree_scolaire                          32982 non-null  int64  \n",
      " 1   region_academique                         32982 non-null  object \n",
      " 2   academie_x                                32982 non-null  object \n",
      " 3   departement_x                             32982 non-null  object \n",
      " 4   commune                                   32982 non-null  object \n",
      " 5   numero_college                            32982 non-null  object \n",
      " 6   denomination_principale                   32982 non-null  object \n",
      " 7   patronyme                                 32927 non-null  object \n",
      " 8   secteur_x                                 32982 non-null  object \n",
      " 9   rep                                       32982 non-null  int64  \n",
      " 10  rep_plus                                  32982 non-null  int64  \n",
      " 11  nombre_eleves_total                       32982 non-null  int64  \n",
      " 12  nombre_eleves_total_hors_segpa_hors_ulis  32982 non-null  int64  \n",
      " 13  nombre_eleves_segpa                       32982 non-null  int64  \n",
      " 14  nombre_eleves_ulis                        32982 non-null  int64  \n",
      " 15  6eme_total                                32982 non-null  int64  \n",
      " 16  6eme_hors_segpa_hors_ulis                 32982 non-null  int64  \n",
      " 17  6eme_segpa                                32982 non-null  int64  \n",
      " 18  6eme_ulis                                 32982 non-null  int64  \n",
      " 19  6eme_filles                               32982 non-null  int64  \n",
      " 20  6emes_garcons                             32982 non-null  int64  \n",
      " 21  6eme_lv1_allemand                         32982 non-null  int64  \n",
      " 22  6eme_lv1_anglais                          32982 non-null  int64  \n",
      " 23  6eme_lv1_espagnol                         32982 non-null  int64  \n",
      " 24  6eme_lv1_autres                           32982 non-null  int64  \n",
      " 25  6eme_lv2_allemand                         32982 non-null  int64  \n",
      " 26  6eme_lv2_anglais                          32982 non-null  int64  \n",
      " 27  6eme_lv2_espagnol                         32982 non-null  int64  \n",
      " 28  6eme_lv2_italien                          32982 non-null  int64  \n",
      " 29  6eme_lv2_autres                           32982 non-null  int64  \n",
      " 30  5eme_total                                32982 non-null  int64  \n",
      " 31  5eme_hors_segpa_hors_ulis                 32982 non-null  int64  \n",
      " 32  5eme_segpa                                32982 non-null  int64  \n",
      " 33  5eme_ulis                                 32982 non-null  int64  \n",
      " 34  5eme_filles                               32982 non-null  int64  \n",
      " 35  5emes_garcons                             32982 non-null  int64  \n",
      " 36  5eme_lv1_allemand                         32982 non-null  int64  \n",
      " 37  5eme_lv1_anglais                          32982 non-null  int64  \n",
      " 38  5eme_lv1_espagnol                         32982 non-null  int64  \n",
      " 39  5eme_lv1_autres                           32982 non-null  int64  \n",
      " 40  5eme_lv2_allemand                         32982 non-null  int64  \n",
      " 41  5eme_lv2_anglais                          32982 non-null  int64  \n",
      " 42  5eme_lv2_espagnol                         32982 non-null  int64  \n",
      " 43  5eme_lv2_italien                          32982 non-null  int64  \n",
      " 44  5eme_lv2_autres                           32982 non-null  int64  \n",
      " 45  4eme_total                                32982 non-null  int64  \n",
      " 46  4eme_hors_segpa_hors_ulis                 32982 non-null  int64  \n",
      " 47  4eme_segpa                                32982 non-null  int64  \n",
      " 48  4eme_ulis                                 32982 non-null  int64  \n",
      " 49  4eme_filles                               32982 non-null  int64  \n",
      " 50  4emes_garcons                             32982 non-null  int64  \n",
      " 51  4eme_lv1_allemand                         32982 non-null  int64  \n",
      " 52  4eme_lv1_anglais                          32982 non-null  int64  \n",
      " 53  4eme_lv1_espagnol                         32982 non-null  int64  \n",
      " 54  4eme_lv1_autres                           32982 non-null  int64  \n",
      " 55  4eme_lv2_allemand                         32982 non-null  int64  \n",
      " 56  4eme_lv2_anglais                          32982 non-null  int64  \n",
      " 57  4eme_lv2_espagnol                         32982 non-null  int64  \n",
      " 58  4eme_lv2_italien                          32982 non-null  int64  \n",
      " 59  4eme_lv2_autres                           32982 non-null  int64  \n",
      " 60  3eme_total                                32982 non-null  int64  \n",
      " 61  3eme_hors_segpa_hors_ulis                 32982 non-null  int64  \n",
      " 62  3eme_segpa                                32982 non-null  int64  \n",
      " 63  3eme_ulis                                 32982 non-null  int64  \n",
      " 64  3eme_filles                               32982 non-null  int64  \n",
      " 65  3emes_garcons                             32982 non-null  int64  \n",
      " 66  3eme_lv1_allemand                         32982 non-null  int64  \n",
      " 67  3eme_lv1_anglais                          32982 non-null  int64  \n",
      " 68  3eme_lv1_espagnol                         32982 non-null  int64  \n",
      " 69  3eme_lv1_autres                           32982 non-null  int64  \n",
      " 70  3eme_lv2_allemand                         32982 non-null  int64  \n",
      " 71  3eme_lv2_anglais                          32982 non-null  int64  \n",
      " 72  3eme_lv2_espagnol                         32982 non-null  int64  \n",
      " 73  3eme_lv2_italien                          32982 non-null  int64  \n",
      " 74  3eme_lv2_autres                           32982 non-null  int64  \n",
      " 75  code_postal                               32862 non-null  float64\n",
      " 76  academie_y                                6973 non-null   object \n",
      " 77  code_du_departement                       6973 non-null   object \n",
      " 78  departement_y                             6973 non-null   object \n",
      " 79  uai                                       6973 non-null   object \n",
      " 80  nom_de_l_etablissment                     6973 non-null   object \n",
      " 81  code_insee_de_la_commune                  6973 non-null   object \n",
      " 82  nom_de_la_commune                         6973 non-null   object \n",
      " 83  secteur_y                                 6973 non-null   object \n",
      " 84  effectifs                                 6973 non-null   float64\n",
      " 85  ips                                       6973 non-null   float64\n",
      " 86  ecart_type_de_l_ips                       6973 non-null   float64\n",
      "dtypes: float64(4), int64(67), object(16)\n",
      "memory usage: 22.1+ MB\n"
     ]
    }
   ],
   "source": [
    "fichier_college.info()"
   ]
  },
  {
   "cell_type": "code",
   "execution_count": 26,
   "metadata": {},
   "outputs": [],
   "source": [
    "# supprime les colonnes en trop (doublons)\n",
    "fichier_college.drop(columns=['academie_y','departement_y','secteur_y'],inplace=True)\n",
    "# renomme les colonnes avec un _x\n",
    "fichier_college.rename(columns={'academie_x':'academie','departement_x':'departement','secteur_x':'secteur'},inplace=True)"
   ]
  },
  {
   "cell_type": "markdown",
   "metadata": {},
   "source": [
    "## premier graphes généraux:\n",
    "voir l évolution des effectifs globale des effectifs en primaire<br>\n",
    "voir la repartition dans les classes en 2022<br>"
   ]
  },
  {
   "cell_type": "code",
   "execution_count": 27,
   "metadata": {},
   "outputs": [],
   "source": [
    "# style graphe :\n",
    "sns.set_theme(style=\"darkgrid\")\n",
    "plt.style.use(\"dark_background\")"
   ]
  },
  {
   "cell_type": "code",
   "execution_count": 28,
   "metadata": {},
   "outputs": [],
   "source": [
    "france_ecole = fichier_ecole_elementaire.groupby(by='rentree_scolaire').sum(numeric_only=True)"
   ]
  },
  {
   "cell_type": "code",
   "execution_count": 39,
   "metadata": {},
   "outputs": [
    {
     "data": {
      "text/html": [
       "<div>\n",
       "<style scoped>\n",
       "    .dataframe tbody tr th:only-of-type {\n",
       "        vertical-align: middle;\n",
       "    }\n",
       "\n",
       "    .dataframe tbody tr th {\n",
       "        vertical-align: top;\n",
       "    }\n",
       "\n",
       "    .dataframe thead th {\n",
       "        text-align: right;\n",
       "    }\n",
       "</style>\n",
       "<table border=\"1\" class=\"dataframe\">\n",
       "  <thead>\n",
       "    <tr style=\"text-align: right;\">\n",
       "      <th></th>\n",
       "      <th>effectifs</th>\n",
       "      <th>ips</th>\n",
       "      <th>rep</th>\n",
       "      <th>rep_plus</th>\n",
       "      <th>nombre_total_classes</th>\n",
       "      <th>nombre_total_eleves</th>\n",
       "      <th>nombre_eleves_preelementaire_hors_ulis</th>\n",
       "      <th>nombre_eleves_elementaire_hors_ulis</th>\n",
       "      <th>nombre_eleves_ulis</th>\n",
       "      <th>nombre_eleves_cp_hors_ulis</th>\n",
       "      <th>nombre_eleves_ce1_hors_ulis</th>\n",
       "      <th>nombre_eleves_ce2_hors_ulis</th>\n",
       "      <th>nombre_eleves_cm1_hors_ulis</th>\n",
       "      <th>nombre_eleves_cm2_hors_ulis</th>\n",
       "      <th>code_postal</th>\n",
       "    </tr>\n",
       "    <tr>\n",
       "      <th>rentree_scolaire</th>\n",
       "      <th></th>\n",
       "      <th></th>\n",
       "      <th></th>\n",
       "      <th></th>\n",
       "      <th></th>\n",
       "      <th></th>\n",
       "      <th></th>\n",
       "      <th></th>\n",
       "      <th></th>\n",
       "      <th></th>\n",
       "      <th></th>\n",
       "      <th></th>\n",
       "      <th></th>\n",
       "      <th></th>\n",
       "      <th></th>\n",
       "    </tr>\n",
       "  </thead>\n",
       "  <tbody>\n",
       "    <tr>\n",
       "      <th>2019</th>\n",
       "      <td>0.0</td>\n",
       "      <td>0.0</td>\n",
       "      <td>4208</td>\n",
       "      <td>2455</td>\n",
       "      <td>294261</td>\n",
       "      <td>6653465</td>\n",
       "      <td>2441820</td>\n",
       "      <td>4160847</td>\n",
       "      <td>50798</td>\n",
       "      <td>827029</td>\n",
       "      <td>833242</td>\n",
       "      <td>831215</td>\n",
       "      <td>835383</td>\n",
       "      <td>833978</td>\n",
       "      <td>2627935323</td>\n",
       "    </tr>\n",
       "    <tr>\n",
       "      <th>2020</th>\n",
       "      <td>0.0</td>\n",
       "      <td>0.0</td>\n",
       "      <td>4189</td>\n",
       "      <td>2458</td>\n",
       "      <td>296560</td>\n",
       "      <td>6565847</td>\n",
       "      <td>2374980</td>\n",
       "      <td>4137960</td>\n",
       "      <td>52907</td>\n",
       "      <td>823870</td>\n",
       "      <td>820717</td>\n",
       "      <td>831154</td>\n",
       "      <td>824201</td>\n",
       "      <td>838018</td>\n",
       "      <td>2617169842</td>\n",
       "    </tr>\n",
       "    <tr>\n",
       "      <th>2021</th>\n",
       "      <td>0.0</td>\n",
       "      <td>0.0</td>\n",
       "      <td>4168</td>\n",
       "      <td>2458</td>\n",
       "      <td>297010</td>\n",
       "      <td>6481517</td>\n",
       "      <td>2337371</td>\n",
       "      <td>4090022</td>\n",
       "      <td>54124</td>\n",
       "      <td>804533</td>\n",
       "      <td>819138</td>\n",
       "      <td>817486</td>\n",
       "      <td>822840</td>\n",
       "      <td>826025</td>\n",
       "      <td>2598162900</td>\n",
       "    </tr>\n",
       "    <tr>\n",
       "      <th>2022</th>\n",
       "      <td>3812643.0</td>\n",
       "      <td>3133330.1</td>\n",
       "      <td>4152</td>\n",
       "      <td>2456</td>\n",
       "      <td>296963</td>\n",
       "      <td>6422791</td>\n",
       "      <td>2314893</td>\n",
       "      <td>4052461</td>\n",
       "      <td>55437</td>\n",
       "      <td>790617</td>\n",
       "      <td>801485</td>\n",
       "      <td>820246</td>\n",
       "      <td>813113</td>\n",
       "      <td>827000</td>\n",
       "      <td>2580389098</td>\n",
       "    </tr>\n",
       "  </tbody>\n",
       "</table>\n",
       "</div>"
      ],
      "text/plain": [
       "                  effectifs        ips   rep  rep_plus  nombre_total_classes  \\\n",
       "rentree_scolaire                                                               \n",
       "2019                    0.0        0.0  4208      2455                294261   \n",
       "2020                    0.0        0.0  4189      2458                296560   \n",
       "2021                    0.0        0.0  4168      2458                297010   \n",
       "2022              3812643.0  3133330.1  4152      2456                296963   \n",
       "\n",
       "                  nombre_total_eleves  nombre_eleves_preelementaire_hors_ulis  \\\n",
       "rentree_scolaire                                                                \n",
       "2019                          6653465                                 2441820   \n",
       "2020                          6565847                                 2374980   \n",
       "2021                          6481517                                 2337371   \n",
       "2022                          6422791                                 2314893   \n",
       "\n",
       "                  nombre_eleves_elementaire_hors_ulis  nombre_eleves_ulis  \\\n",
       "rentree_scolaire                                                            \n",
       "2019                                          4160847               50798   \n",
       "2020                                          4137960               52907   \n",
       "2021                                          4090022               54124   \n",
       "2022                                          4052461               55437   \n",
       "\n",
       "                  nombre_eleves_cp_hors_ulis  nombre_eleves_ce1_hors_ulis  \\\n",
       "rentree_scolaire                                                            \n",
       "2019                                  827029                       833242   \n",
       "2020                                  823870                       820717   \n",
       "2021                                  804533                       819138   \n",
       "2022                                  790617                       801485   \n",
       "\n",
       "                  nombre_eleves_ce2_hors_ulis  nombre_eleves_cm1_hors_ulis  \\\n",
       "rentree_scolaire                                                             \n",
       "2019                                   831215                       835383   \n",
       "2020                                   831154                       824201   \n",
       "2021                                   817486                       822840   \n",
       "2022                                   820246                       813113   \n",
       "\n",
       "                  nombre_eleves_cm2_hors_ulis  code_postal  \n",
       "rentree_scolaire                                            \n",
       "2019                                   833978   2627935323  \n",
       "2020                                   838018   2617169842  \n",
       "2021                                   826025   2598162900  \n",
       "2022                                   827000   2580389098  "
      ]
     },
     "execution_count": 39,
     "metadata": {},
     "output_type": "execute_result"
    }
   ],
   "source": [
    "france_ecole.head()"
   ]
  },
  {
   "cell_type": "code",
   "execution_count": 40,
   "metadata": {},
   "outputs": [],
   "source": [
    "france_ecole[\"Nombre_eleves_par_classe_moyenne\"] = france_ecole['nombre_total_eleves'] / france_ecole['nombre_total_classes']"
   ]
  },
  {
   "cell_type": "code",
   "execution_count": 47,
   "metadata": {},
   "outputs": [
    {
     "data": {
      "image/png": "[encoded data removed]",
      "text/plain": [
       "<Figure size 640x480 with 1 Axes>"
      ]
     },
     "metadata": {},
     "output_type": "display_data"
    }
   ],
   "source": [
    "#faire un graphe qui montre le nombre d'eleve\n",
    "fig,ax = plt.subplots()\n",
    "sns.lineplot(data=france_ecole,x='rentree_scolaire',y='nombre_total_eleves',ax=ax)\n",
    "ax.set_ylim(0)\n",
    "ax.ticklabel_format(axis='y',style='plain')\n",
    "ax.xaxis.set_major_locator(MaxNLocator(integer=True))\n",
    "ax.set_title(\"nombre d'éleve total par an\")\n",
    "ax.set_xlabel(\"année\")\n",
    "ax.set_ylabel(\"nombre total d'éleves\")\n",
    "plt.show()\n"
   ]
  },
  {
   "cell_type": "code",
   "execution_count": 31,
   "metadata": {},
   "outputs": [
    {
     "data": {
      "image/png": "[encoded data removed]",
      "text/plain": [
       "<Figure size 640x480 with 1 Axes>"
      ]
     },
     "metadata": {},
     "output_type": "display_data"
    }
   ],
   "source": [
    "fig,ax = plt.subplots()\n",
    "sns.lineplot(data=france_ecole,x='rentree_scolaire',y='nombre_eleves_ulis',ax=ax)\n",
    "ax.xaxis.set_major_locator(MaxNLocator(integer=True))\n",
    "ax.set_ylim(0)\n",
    "plt.show()"
   ]
  },
  {
   "cell_type": "code",
   "execution_count": 38,
   "metadata": {},
   "outputs": [
    {
     "data": {
      "image/png": "[encoded data removed]",
      "text/plain": [
       "<Figure size 640x480 with 1 Axes>"
      ]
     },
     "metadata": {},
     "output_type": "display_data"
    }
   ],
   "source": [
    "fig,ax = plt.subplots()\n",
    "sns.lineplot(data=france_ecole,x='rentree_scolaire',y='nombre_total_classes',ax=ax)\n",
    "ax.xaxis.set_major_locator(MaxNLocator(integer=True))\n",
    "ax.set_ylim(240000)\n",
    "plt.show()"
   ]
  },
  {
   "cell_type": "code",
   "execution_count": 43,
   "metadata": {},
   "outputs": [
    {
     "data": {
      "image/png": "[encoded data removed]",
      "text/plain": [
       "<Figure size 640x480 with 1 Axes>"
      ]
     },
     "metadata": {},
     "output_type": "display_data"
    }
   ],
   "source": [
    "fig,ax = plt.subplots()\n",
    "sns.lineplot(data=france_ecole,x='rentree_scolaire',y='Nombre_eleves_par_classe_moyenne',ax=ax)\n",
    "ax.xaxis.set_major_locator(MaxNLocator(integer=True))\n",
    "ax.set_ylim()\n",
    "plt.show()"
   ]
  },
  {
   "cell_type": "code",
   "execution_count": null,
   "metadata": {},
   "outputs": [],
   "source": []
  }
 ],
 "metadata": {
  "kernelspec": {
   "display_name": "Python 3",
   "language": "python",
   "name": "python3"
  },
  "language_info": {
   "codemirror_mode": {
    "name": "ipython",
    "version": 3
   },
   "file_extension": ".py",
   "mimetype": "text/x-python",
   "name": "python",
   "nbconvert_exporter": "python",
   "pygments_lexer": "ipython3",
   "version": "3.11.7"
  }
 },
 "nbformat": 4,
 "nbformat_minor": 2
}
